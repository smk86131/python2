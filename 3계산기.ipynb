{
 "cells": [
  {
   "cell_type": "code",
   "execution_count": 44,
   "metadata": {},
   "outputs": [
    {
     "name": "stdout",
     "output_type": "stream",
     "text": [
      "계산기 수식을 입력하세요[+,-,*,/](종료할려면 q를 입력하세요) : +\n",
      "첫번째로 더할 수를 입력하세요 : 1\n",
      "두번째로 더할 수를 입력하세요 : 2\n",
      "결과는...\n",
      "\n",
      "3\n",
      "계산기 수식을 입력하세요[+,-,*,/](종료할려면 q를 입력하세요) : ㅂ\n",
      "계산기 수식을 입력하세요[+,-,*,/](종료할려면 q를 입력하세요) : q\n"
     ]
    }
   ],
   "source": [
    "\n",
    "while True:\n",
    "    a = input('계산기 수식을 입력하세요[+,-,*,/](종료할려면 q를 입력하세요) : ')\n",
    "    if a == 'q':     \n",
    "        break           \n",
    "\n",
    "    if a == '+':        \n",
    "        plusonesum = int(input('첫번째로 더할 수를 입력하세요 : '))  \n",
    "        plustwosum = int(input('두번째로 더할 수를 입력하세요 : '))  \n",
    "        print(\"결과는...\")\n",
    "        sleep(1.5)  \n",
    "        print() \n",
    "        print(plusonesum + plustwosum)  \n",
    "    \n",
    "    if a == '-':        \n",
    "        minusonesum = int(input('첫번째로 뺄 수를 입력하세요 : '))  \n",
    "        minustwosum = int(input('두번째로 뺄 수를 입력하세요 : '))  \n",
    "        print(\"결과는...\")\n",
    "        sleep(1.5)  \n",
    "        print() \n",
    "        print(minusonesum - minustwosum)  \n",
    "\n",
    "    if a == '*':       \n",
    "        multiplyonesum = int(input('첫번째로 곱할 수를 입력하세요 : '))  \n",
    "        multiplytwosum = int(input('두번째로 곱할 수를 입력하세요 : '))  \n",
    "        print(\"결과는...\")\n",
    "        sleep(1.5)  \n",
    "        print() \n",
    "        print(multiplyonesum * multiplytwosum)  \n",
    "    try:\n",
    "        if a == '/':       \n",
    "            breaksonesum = int(input('첫번째로 나눌 수를 입력하세요 : ')) \n",
    "            breakstwosum = int(input('두번째로 나눌 수를 입력하세요 : '))  \n",
    "            print(\"결과는...\")\n",
    "            sleep(1.5)  \n",
    "            print() \n",
    "            print(breaksonesum / breakstwosum)  \n",
    "    except ZeroDivisionError:\n",
    "            print(\"ZeroDivisionError\")\n",
    "    except Exception:\n",
    "            print(\"not error\")\n"
   ]
  }
 ],
 "metadata": {
  "kernelspec": {
   "display_name": "Python 3",
   "language": "python",
   "name": "python3"
  },
  "language_info": {
   "codemirror_mode": {
    "name": "ipython",
    "version": 3
   },
   "file_extension": ".py",
   "mimetype": "text/x-python",
   "name": "python",
   "nbconvert_exporter": "python",
   "pygments_lexer": "ipython3",
   "version": "3.8.5"
  }
 },
 "nbformat": 4,
 "nbformat_minor": 4
}
