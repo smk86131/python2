{
 "cells": [
  {
   "cell_type": "code",
   "execution_count": null,
   "metadata": {},
   "outputs": [],
   "source": [
    "class character :\n",
    "    def __init__(self, name, age, skill) :\n",
    "        self.name = name\n",
    "        self.age = age\n",
    "        self.skill = skill\n",
    "        \n",
    "    def getitem(self) :\n",
    "        print(\"새 아이템을 장착했다\")\n",
    "\n",
    "    def sellitem(self) :\n",
    "        print(\"아이템을 팔았다\")\n",
    "    \n",
    "class gamecharacter(character) :\n",
    "    \n",
    "    def getitem(self) :\n",
    "        print(\"gamecharacter nagyeom은\")\n",
    "        character.getitem()\n",
    "        super().getitem() # 부모클래스의 메서드를 호출하여 중복을 줄임\n",
    "\n",
    "    def sellitem(self) :\n",
    "        super().sellitem()\n",
    "        \n",
    "    def changeitem(self) :\n",
    "        print(\"아이템을 변경하였다\") # 메서드 추가하기"
   ]
  }
 ],
 "metadata": {
  "kernelspec": {
   "display_name": "Python 3",
   "language": "python",
   "name": "python3"
  },
  "language_info": {
   "codemirror_mode": {
    "name": "ipython",
    "version": 3
   },
   "file_extension": ".py",
   "mimetype": "text/x-python",
   "name": "python",
   "nbconvert_exporter": "python",
   "pygments_lexer": "ipython3",
   "version": "3.8.5"
  },
  "toc": {
   "base_numbering": 1,
   "nav_menu": {},
   "number_sections": true,
   "sideBar": true,
   "skip_h1_title": false,
   "title_cell": "Table of Contents",
   "title_sidebar": "Contents",
   "toc_cell": false,
   "toc_position": {},
   "toc_section_display": true,
   "toc_window_display": false
  }
 },
 "nbformat": 4,
 "nbformat_minor": 4
}
