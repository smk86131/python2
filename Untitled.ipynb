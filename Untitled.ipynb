{
 "cells": [
  {
   "cell_type": "code",
   "execution_count": 20,
   "metadata": {},
   "outputs": [],
   "source": [
    "class unit:\n",
    "    def __init__(self, attack, speed, hitpoint):\n",
    "        self.attack = attack\n",
    "        self.speed = speed\n",
    "        self.hitpoint = hitpoint\n",
    "        \n",
    "    def targetAttack(self):\n",
    "        print(\"공격력\", self.attack, \"로 공격합니다\")\n",
    "    def moving(self):\n",
    "        print(\"속도\", self.speed, \"로 이동합니다\")"
   ]
  },
  {
   "cell_type": "code",
   "execution_count": 19,
   "metadata": {},
   "outputs": [],
   "source": [
    "class marine(unit):\n",
    "    def stampack(self):\n",
    "        if self.hitpoint <= 10:\n",
    "            print(\"스팀팩을 사용할수없습니다\")\n",
    "            return\n",
    "        self.hitpoint -= 10\n",
    "        print(\"스팀팩을 사용합니다\")\n",
    "        print(\"현재체력: \",self.hitpoint)\n",
    "        \n",
    "        marine1 = marine (6, 10, 40)       "
   ]
  },
  {
   "cell_type": "code",
   "execution_count": 18,
   "metadata": {},
   "outputs": [
    {
     "ename": "NameError",
     "evalue": "name 'marine1' is not defined",
     "output_type": "error",
     "traceback": [
      "\u001b[1;31m---------------------------------------------------------------------------\u001b[0m",
      "\u001b[1;31mNameError\u001b[0m                                 Traceback (most recent call last)",
      "\u001b[1;32m<ipython-input-18-de608c79afa1>\u001b[0m in \u001b[0;36m<module>\u001b[1;34m\u001b[0m\n\u001b[1;32m----> 1\u001b[1;33m \u001b[0mmarine1\u001b[0m\u001b[1;33m.\u001b[0m\u001b[0mtargetAttack\u001b[0m\u001b[1;33m(\u001b[0m\u001b[1;33m)\u001b[0m\u001b[1;33m\u001b[0m\u001b[1;33m\u001b[0m\u001b[0m\n\u001b[0m",
      "\u001b[1;31mNameError\u001b[0m: name 'marine1' is not defined"
     ]
    }
   ],
   "source": [
    "marine1.targetAttack()"
   ]
  }
 ],
 "metadata": {
  "kernelspec": {
   "display_name": "Python 3",
   "language": "python",
   "name": "python3"
  },
  "language_info": {
   "codemirror_mode": {
    "name": "ipython",
    "version": 3
   },
   "file_extension": ".py",
   "mimetype": "text/x-python",
   "name": "python",
   "nbconvert_exporter": "python",
   "pygments_lexer": "ipython3",
   "version": "3.8.5"
  }
 },
 "nbformat": 4,
 "nbformat_minor": 4
}
