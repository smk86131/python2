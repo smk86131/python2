{
 "cells": [
  {
   "cell_type": "code",
   "execution_count": 11,
   "metadata": {},
   "outputs": [
    {
     "ename": "SyntaxError",
     "evalue": "invalid syntax (<ipython-input-11-667c1205e4a9>, line 6)",
     "output_type": "error",
     "traceback": [
      "\u001b[1;36m  File \u001b[1;32m\"<ipython-input-11-667c1205e4a9>\"\u001b[1;36m, line \u001b[1;32m6\u001b[0m\n\u001b[1;33m    fot i in data :\u001b[0m\n\u001b[1;37m        ^\u001b[0m\n\u001b[1;31mSyntaxError\u001b[0m\u001b[1;31m:\u001b[0m invalid syntax\n"
     ]
    }
   ],
   "source": [
    "import csv\n",
    "f = open('210416.csv', encoding = 'cp949')\n",
    "data = csv.reader(f)\n",
    "header = next(data)\n",
    "count = 0\n",
    "fot i in data :\n",
    "    if '-' in i[5] :\n",
    "        continue\n",
    "if int(i[5]) >= 10000 :\n",
    "        print(i)\n",
    "\n",
    "header = (next)data\n",
    "    print(i)\n",
    "f.close()"
   ]
  },
  {
   "cell_type": "code",
   "execution_count": 18,
   "metadata": {},
   "outputs": [
    {
     "ename": "SyntaxError",
     "evalue": "invalid syntax (<ipython-input-18-c863ca34d944>, line 5)",
     "output_type": "error",
     "traceback": [
      "\u001b[1;36m  File \u001b[1;32m\"<ipython-input-18-c863ca34d944>\"\u001b[1;36m, line \u001b[1;32m5\u001b[0m\n\u001b[1;33m    fot i in data :\u001b[0m\n\u001b[1;37m        ^\u001b[0m\n\u001b[1;31mSyntaxError\u001b[0m\u001b[1;31m:\u001b[0m invalid syntax\n"
     ]
    }
   ],
   "source": [
    "import csv\n",
    "f = open('210416.csv', encoding = 'cp949')\n",
    "data = csv.reader(f)\n",
    "header = next(data)\n",
    "fot i in data :\n",
    "    if int(i[5]) >= 10000 :\n",
    "        print(i)\n",
    "    elif '-' i[5] :\n",
    "        continue\n",
    "f.close()"
   ]
  },
  {
   "cell_type": "code",
   "execution_count": 17,
   "metadata": {},
   "outputs": [],
   "source": [
    "import csv\n",
    "f = open('210416.csv', encoding = 'cp949')\n",
    "data = csv.reader(f)\n"
   ]
  }
 ],
 "metadata": {
  "kernelspec": {
   "display_name": "Python 3",
   "language": "python",
   "name": "python3"
  },
  "language_info": {
   "codemirror_mode": {
    "name": "ipython",
    "version": 3
   },
   "file_extension": ".py",
   "mimetype": "text/x-python",
   "name": "python",
   "nbconvert_exporter": "python",
   "pygments_lexer": "ipython3",
   "version": "3.8.5"
  }
 },
 "nbformat": 4,
 "nbformat_minor": 4
}
