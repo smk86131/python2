{
 "cells": [
  {
   "cell_type": "code",
   "execution_count": 7,
   "metadata": {},
   "outputs": [
    {
     "data": {
      "text/plain": [
       "{'Chapman': 'Graham',\n",
       " 'Clesse': 'John',\n",
       " 'Gilliam': 'Terry',\n",
       " 'Palin': 'Michael',\n",
       " 'Marx': 'Groucho',\n",
       " 'Howard': 'Moe'}"
      ]
     },
     "execution_count": 7,
     "metadata": {},
     "output_type": "execute_result"
    }
   ],
   "source": [
    "pythons = {\n",
    "    'Chapman': 'Graham',\n",
    "    'Clesse': 'John',\n",
    "    'Gilliam': 'Terry',\n",
    "    'Palin': 'Michael',\n",
    "}\n",
    "pythons\n",
    "\n",
    "others = {'Marx': 'Groucho', 'Howard': 'Moe'}\n",
    "\n",
    "pythons.update(others)\n",
    "pythons\n"
   ]
  },
  {
   "cell_type": "code",
   "execution_count": 8,
   "metadata": {},
   "outputs": [
    {
     "data": {
      "text/plain": [
       "{'a': 1, 'b': 'platypus'}"
      ]
     },
     "execution_count": 8,
     "metadata": {},
     "output_type": "execute_result"
    }
   ],
   "source": [
    "first = {'a':1, 'b':2}\n",
    "second = {'b': 'platypus'}\n",
    "first.update(second)\n",
    "first"
   ]
  },
  {
   "cell_type": "code",
   "execution_count": 22,
   "metadata": {},
   "outputs": [
    {
     "data": {
      "text/plain": [
       "{'dog': 'chien', 'cat': 'chat', 'walrus': 'morse'}"
      ]
     },
     "execution_count": 22,
     "metadata": {},
     "output_type": "execute_result"
    }
   ],
   "source": [
    "e2f = {'dog': 'chien', 'cat': 'chat', 'walrus': 'morse'}\n",
    "f2e=e2f.copy()\n",
    "f2e\n",
    "\n",
    "for item in e2f.items():\n",
    "    print(item)\n",
    "for  in f2e.items():"
   ]
  },
  {
   "cell_type": "code",
   "execution_count": null,
   "metadata": {},
   "outputs": [],
   "source": [
    "lift={animals={'cats'={},'plants'={},'other'={}}"
   ]
  },
  {
   "cell_type": "markdown",
   "metadata": {},
   "source": [
    "empty_set=set()\n",
    "empty_set\n",
    "\n",
    "even_number={0,2,4,6,8}\n",
    "even_number\n",
    "\n",
    "odd_number={1,3,5,7,9}\n",
    "odd_number\n"
   ]
  },
  {
   "cell_type": "code",
   "execution_count": 23,
   "metadata": {},
   "outputs": [
    {
     "data": {
      "text/plain": [
       "{'e', 'l', 'r', 's', 't'}"
      ]
     },
     "execution_count": 23,
     "metadata": {},
     "output_type": "execute_result"
    }
   ],
   "source": [
    "set('letters')"
   ]
  },
  {
   "cell_type": "code",
   "execution_count": 24,
   "metadata": {},
   "outputs": [
    {
     "data": {
      "text/plain": [
       "{'Dancer', 'Dasher', 'Mason-Dixon', 'Prancer'}"
      ]
     },
     "execution_count": 24,
     "metadata": {},
     "output_type": "execute_result"
    }
   ],
   "source": [
    "set(['Dasher', 'Dancer', 'Prancer', 'Mason-Dixon'])"
   ]
  },
  {
   "cell_type": "code",
   "execution_count": 51,
   "metadata": {},
   "outputs": [
    {
     "name": "stdout",
     "output_type": "stream",
     "text": [
      "martini\n",
      "black russian\n",
      "white russian\n",
      "screwdriver\n",
      "black russian\n",
      "screwdriver\n",
      "martini\n",
      "manhattan\n",
      "black russian\n",
      "screwdriver\n"
     ]
    }
   ],
   "source": [
    "drinks = {\n",
    "'martini' : {'vodka', 'vermouth'},\n",
    "'black russian' : {'vodka', 'kahlua'},\n",
    "'white russian' : {'cream', 'kahlua', 'vodka'},\n",
    "'manhattan' : {'rye', 'vermouth', 'bitters'},\n",
    "'screwdriver' : {'orange jiuce', 'vodka'}\n",
    "}\n",
    "\n",
    "for name, contents in drinks.items():\n",
    "    if 'vodka' in contents:\n",
    "        print(name)\n",
    "        \n",
    "for name, contents in drinks.items():\n",
    "    if 'vodka' in contents and not ('vermouth' in contents or 'cream' in contents):\n",
    "        print(name)\n",
    "        \n",
    "for name, contents in drinks.items():\n",
    "    if contents & {'vermouth', 'orange juice'}:\n",
    "        print(name)\n",
    "        \n",
    "for name, contents in drinks.items():\n",
    "    if 'vodka' in contents and not contents & {'vermouth', 'cream'}:\n",
    "        print(name)\n",
    "   "
   ]
  },
  {
   "cell_type": "code",
   "execution_count": 75,
   "metadata": {},
   "outputs": [
    {
     "data": {
      "text/plain": [
       "False"
      ]
     },
     "execution_count": 75,
     "metadata": {},
     "output_type": "execute_result"
    }
   ],
   "source": [
    "drinks = {\n",
    "'martini' : {'vodka', 'vermouth'},\n",
    "'black russian' : {'vodka', 'kahlua'},\n",
    "'white russian' : {'cream', 'kahlua', 'vodka'},\n",
    "'manhattan' : {'rye', 'vermouth', 'bitters'},\n",
    "'screwdriver' : {'orange jiuce', 'vodka'}\n",
    "}\n",
    "\n",
    "bruss = drinks['black russian']\n",
    "wruss = drinks['white russian']\n",
    "\n",
    "a={1,2}\n",
    "b={2,3}\n",
    "\n",
    "a&b\n",
    "\n",
    "a.intersection(b)\n",
    "\n",
    "bruss & wruss\n",
    "\n",
    "a|b\n",
    "\n",
    "a.union(b)\n",
    "\n",
    "bruss | wruss\n",
    "\n",
    "a-b\n",
    "\n",
    "a.difference(b)\n",
    "\n",
    "bruss - wruss\n",
    "\n",
    "wruss - bruss\n",
    "\n",
    "a ^ b\n",
    "\n",
    "a.symmetric_difference(b)\n",
    "\n",
    "bruss^wruss\n",
    "\n",
    "a <= b"
   ]
  },
  {
   "cell_type": "code",
   "execution_count": 77,
   "metadata": {},
   "outputs": [],
   "source": [
    "squared = []\n",
    "for x in range(10):\n",
    "  squared.append(x**2)\n",
    "\n",
    "a_set = {number for number in range(10) if number % 3 == 1}"
   ]
  }
 ],
 "metadata": {
  "kernelspec": {
   "display_name": "Python 3",
   "language": "python",
   "name": "python3"
  },
  "language_info": {
   "codemirror_mode": {
    "name": "ipython",
    "version": 3
   },
   "file_extension": ".py",
   "mimetype": "text/x-python",
   "name": "python",
   "nbconvert_exporter": "python",
   "pygments_lexer": "ipython3",
   "version": "3.8.5"
  }
 },
 "nbformat": 4,
 "nbformat_minor": 4
}
