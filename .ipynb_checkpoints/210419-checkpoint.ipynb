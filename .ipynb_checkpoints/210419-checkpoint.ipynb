{
 "cells": [
  {
   "cell_type": "code",
   "execution_count": null,
   "metadata": {},
   "outputs": [],
   "source": [
    "plt.plot([1,2,3,4])\n",
    "plt.ylabel('y-Label')\n",
    "plt.show()"
   ]
  },
  {
   "cell_type": "code",
   "execution_count": 8,
   "metadata": {},
   "outputs": [
    {
     "name": "stdout",
     "output_type": "stream",
     "text": [
      "['', '', '', '', '', '(단위: 명, %)', '', '', '']\n",
      "['대륙', '국적', '1월', '', '', '', '', '', '']\n",
      "['', '', '2020', '2019', '성장률', '구성비', '', '', '']\n",
      "['전체 방한 외래관광객 수', '', '1,272,708', '1,104,803', '15.2 ', '100.0 ', '', '', '']\n",
      "['전체 국민 해외관광객 수', '', '2,513,030', '2,912,331', '-13.7 ', '100.0 ', '', '', '']\n",
      "['아시아주', '중국', '481,681', '392,814', '22.6 ', '37.8 ', '', '', '']\n",
      "['', '일본', '203,969', '206,526', '-1.2 ', '16.0 ', '', '', '']\n",
      "['', '대만', '110,354', '87,954', '25.5 ', '8.7 ', '', '', '']\n",
      "['', '홍콩', '66,962', '35,896', '86.5 ', '5.3 ', '', '', '']\n",
      "['', '마카오', '5,347', '2,570', '108.1 ', '0.4 ', '', '', '']\n",
      "['', '필리핀', '30,702', '30,473', '0.8 ', '2.4 ', '', '', '']\n",
      "['', '인도네시아', '19,443', '18,842', '3.2 ', '1.5 ', '', '', '']\n",
      "['', '태국', '38,466', '41,334', '-6.9 ', '3.0 ', '', '', '']\n",
      "['', '베트남', '30,232', '20,183', '49.8 ', '2.4 ', '', '', '']\n",
      "['', '인도', '9,249', '8,671', '6.7 ', '0.7 ', '', '', '']\n",
      "['', '말레이시아', '27,549', '22,065', '24.9 ', '2.2 ', '', '', '']\n",
      "['', '싱가포르', '10,738', '9,855', '9.0 ', '0.8 ', '', '', '']\n",
      "['', '몽골', '12,323', '9,785', '25.9 ', '1.0 ', '', '', '']\n",
      "['', '우즈베키스탄', '6,135', '5,754', '6.6 ', '0.5 ', '', '', '']\n",
      "['', '미얀마', '5,654', '5,289', '6.9 ', '0.4 ', '', '', '']\n",
      "['', 'GCC', '2,158', '1,776', '21.5 ', '0.2 ', '', '', '']\n",
      "['', '카자흐스탄', '4,325', '3,574', '21.0 ', '0.3 ', '', '', '']\n",
      "['', '터키', '2,208', '1,785', '23.7 ', '0.2 ', '', '', '']\n",
      "['', '캄보디아', '4,257', '2,695', '58.0 ', '0.3 ', '', '', '']\n",
      "['', '스리랑카', '1,377', '1,287', '7.0 ', '0.1 ', '', '', '']\n",
      "['', '방글라데시', '1,299', '1,247', '4.2 ', '0.1 ', '', '', '']\n",
      "['', '파키스탄', '1,014', '1,032', '-1.7 ', '0.1 ', '', '', '']\n",
      "['', '이스라엘', '803', '805', '-0.2 ', '0.1 ', '', '', '']\n",
      "['', '이란', '176', '184', '-4.3 ', '0.0 ', '', '', '']\n",
      "['', '아시아 기타', '4,808', '4,554', '5.6 ', '0.4 ', '', '', '']\n",
      "['', '아시아주소계', '1,081,229', '916,950', '17.9 ', '85.0 ', '', '', '']\n",
      "['미주', '미국', '67,255', '62,737', '7.2 ', '5.3 ', '', '', '']\n",
      "['', '캐나다', '13,809', '12,460', '10.8 ', '1.1 ', '', '', '']\n",
      "['', '브라질', '1,801', '1,605', '12.2 ', '0.1 ', '', '', '']\n",
      "['', '멕시코', '2,113', '1,853', '14.0 ', '0.2 ', '', '', '']\n",
      "['', '미주 기타', '2,514', '2,266', '10.9 ', '0.2 ', '', '', '']\n",
      "['', '미주소계', '87,492', '80,921', '8.1 ', '6.9 ', '', '', '']\n",
      "['구주', '러시아', '28,891', '25,194', '14.7 ', '2.3 ', '', '', '']\n",
      "['', '영국', '9,117', '10,148', '-10.2 ', '0.7 ', '', '', '']\n",
      "['', '독일', '6,617', '6,850', '-3.4 ', '0.5 ', '', '', '']\n",
      "['', '프랑스', '5,982', '5,574', '7.3 ', '0.5 ', '', '', '']\n",
      "['', '이탈리아', '2,880', '2,731', '5.5 ', '0.2 ', '', '', '']\n",
      "['', '네덜란드', '2,556', '2,269', '12.6 ', '0.2 ', '', '', '']\n",
      "['', '우크라이나', '1,955', '2,262', '-13.6 ', '0.2 ', '', '', '']\n",
      "['', '스페인', '1,560', '1,368', '14.0 ', '0.1 ', '', '', '']\n",
      "['', '루마니아', '856', '872', '-1.8 ', '0.1 ', '', '', '']\n",
      "['', '노르웨이', '543', '801', '-32.2 ', '0.0 ', '', '', '']\n",
      "['', '스웨덴', '847', '982', '-13.7 ', '0.1 ', '', '', '']\n",
      "['', '폴란드', '1,558', '1,324', '17.7 ', '0.1 ', '', '', '']\n",
      "['', '스위스', '762', '747', '2.0 ', '0.1 ', '', '', '']\n",
      "['', '포르투갈', '720', '564', '27.7 ', '0.1 ', '', '', '']\n",
      "['', '오스트리아', '690', '776', '-11.1 ', '0.1 ', '', '', '']\n",
      "['', '핀란드', '885', '859', '3.0 ', '0.1 ', '', '', '']\n",
      "['', '벨기에', '722', '709', '1.8 ', '0.1 ', '', '', '']\n",
      "['', '크로아티아', '467', '491', '-4.9 ', '0.0 ', '', '', '']\n",
      "['', '그리스', '623', '775', '-19.6 ', '0.0 ', '', '', '']\n",
      "['', '불가리아', '351', '431', '-18.6 ', '0.0 ', '', '', '']\n",
      "['', '덴마크', '665', '751', '-11.5 ', '0.1 ', '', '', '']\n",
      "['', '아일랜드', '715', '595', '20.2 ', '0.1 ', '', '', '']\n",
      "['', '구주 기타', '3,219', '2,965', '8.6 ', '0.3 ', '', '', '']\n",
      "['', '구주소계', '73,181', '70,038', '4.5 ', '5.8 ', '', '', '']\n",
      "['대양주', '오스트레일리아', '14,039', '14,285', '-1.7 ', '1.1 ', '', '', '']\n",
      "['', '뉴질랜드', '3,553', '2,725', '30.4 ', '0.3 ', '', '', '']\n",
      "['', '대양주 기타', '163', '614', '-73.5 ', '0.0 ', '', '', '']\n",
      "['', '대양주소계', '17,755', '17,624', '0.7 ', '1.4 ', '', '', '']\n",
      "['아프리카', '남아프리카공화국', '1,272', '1,000', '27.2 ', '0.1 ', '', '', '']\n",
      "['', '아프리카 기타', '2,926', '2,690', '8.8 ', '0.2 ', '', '', '']\n",
      "['', '아프리카소계', '4,198', '3,690', '13.8 ', '0.3 ', '', '', '']\n",
      "['기타', '국적미상', '61', '54', '13.0 ', '0.0 ', '', '', '']\n",
      "['교포', '교포', '8,792', '15,526', '-43.4 ', '0.7 ', '', '', '']\n",
      "['*GCC 6개국(UAE, 사우디아라비아, 쿠웨이트, 오만, 카타르, 바레인)', '', '', '', '', '', '', '', '']\n"
     ]
    }
   ],
   "source": [
    "import csv\n",
    "f = open('해외여행 01월.csv', encoding = 'cp949')\n",
    "data = csv.reader(f)\n",
    "header = next(data)\n",
    "for i in data :\n",
    "    print(i)\n",
    "\n",
    "for i in data:\n",
    "    if '관광객' in i[0]:\n",
    "        \n",
    "        print('','')\n"
   ]
  },
  {
   "cell_type": "code",
   "execution_count": null,
   "metadata": {},
   "outputs": [],
   "source": [
    "import csv\n",
    "\n",
    "f = open(\"해외여행3.csv\", \"r\")\n",
    "reader = csv.reader(f)\n",
    "\n",
    "for i in data:\n",
    "    if '해외관광객 수' in i[0]:\n",
    "        j2020 = i[15]\n",
    "        j2019 = i[15]\n",
    "        print('12월 : ',j2019,'\\t','12월 : ',j2020)"
   ]
  },
  {
   "cell_type": "code",
   "execution_count": 9,
   "metadata": {},
   "outputs": [
    {
     "name": "stdout",
     "output_type": "stream",
     "text": [
      "[]\n"
     ]
    },
    {
     "data": {
      "text/plain": [
       "<function matplotlib.pyplot.show(close=None, block=None)>"
      ]
     },
     "execution_count": 9,
     "metadata": {},
     "output_type": "execute_result"
    },
    {
     "data": {
      "image/png": "[encoded data removed]",
      "text/plain": [
       "<Figure size 432x288 with 1 Axes>"
      ]
     },
     "metadata": {},
     "output_type": "display_data"
    }
   ],
   "source": [
    "import csv\n",
    "f = open('해외여행3.csv', encoding = 'cp949')\n",
    "data = csv.reader(f)\n",
    "header = next(data)\n",
    "result = []\n",
    "\n",
    "for row in data :\n",
    "    if '관광' in row[0]:\n",
    "        for i in row [6:]:\n",
    "            result.append(int(i))\n",
    "\n",
    "print(result)\n",
    "\n",
    "import matplotlib.pyplot as plt\n",
    "plt.style.use('ggplot')\n",
    "plt.plot(result)\n",
    "plt.show"
   ]
  },
  {
   "cell_type": "code",
   "execution_count": 10,
   "metadata": {},
   "outputs": [
    {
     "name": "stdout",
     "output_type": "stream",
     "text": [
      "{'': '', '전체 방한 외래관광객 수': '2020', '전체 국민 해외관광객 수': '2020'}\n",
      "{'': '', '전체 방한 외래관광객 수': '1,272,708', '전체 국민 해외관광객 수': '2,513,030'}\n",
      "{'': '', '전체 방한 외래관광객 수': '685,212', '전체 국민 해외관광객 수': '1,046,779'}\n",
      "{'': '', '전체 방한 외래관광객 수': '83,497', '전체 국민 해외관광객 수': '143,366'}\n",
      "{'': '', '전체 방한 외래관광객 수': '29,415', '전체 국민 해외관광객 수': '31,425'}\n",
      "{'': '', '전체 방한 외래관광객 수': '30,806', '전체 국민 해외관광객 수': '37,802'}\n",
      "{'': '', '전체 방한 외래관광객 수': '36,938', '전체 국민 해외관광객 수': '48,353'}\n",
      "{'': '', '전체 방한 외래관광객 수': '61,012', '전체 국민 해외관광객 수': '65,936'}\n",
      "{'': '', '전체 방한 외래관광객 수': '68,797', '전체 국민 해외관광객 수': '88,888'}\n",
      "{'': '', '전체 방한 외래관광객 수': '65,040', '전체 국민 해외관광객 수': '76,798'}\n",
      "{'': '', '전체 방한 외래관광객 수': '61,585', '전체 국민 해외관광객 수': '71,970'}\n",
      "{'': '', '전체 방한 외래관광객 수': '61,764', '전체 국민 해외관광객 수': '70,686'}\n",
      "{'': '', '전체 방한 외래관광객 수': '62,344', '전체 국민 해외관광객 수': '80,973'}\n"
     ]
    }
   ],
   "source": [
    "with open('해외여행3.csv','r') as f: \n",
    "    reader = csv.DictReader(f) \n",
    "    for c in reader: \n",
    "        print(c)"
   ]
  },
  {
   "cell_type": "code",
   "execution_count": 12,
   "metadata": {},
   "outputs": [
    {
     "name": "stdout",
     "output_type": "stream",
     "text": [
      "['', '전체 방한 외래관광객 수', '', '전체 국민 해외관광객 수', '', '', '', '', '', '', '', '', '', '', '', '', '', '', '', '', '', '', '', '', '']\n",
      "['', '2020', '2019', '2020', '2019', '', '', '', '', '', '', '', '', '', '', '', '', '', '', '', '', '', '', '', '']\n",
      "['1월', '1,272,708', '1,104,803', '2,513,030', '2,912,331', '', '', '', '', '', '', '', '', '', '', '', '', '', '', '', '', '', '', '', '']\n",
      "['2월', '685,212', '1,201,802', '1,046,779', '2,617,946', '', '', '', '', '', '', '', '', '', '', '', '', '', '', '', '', '', '', '', '']\n",
      "['3월', '83,497', '1,535,641', '143,366', '2,334,153', '', '', '', '', '', '', '', '', '', '', '', '', '', '', '', '', '', '', '', '']\n",
      "['4월', '29,415', '1,635,066', '31,425', '2,246,417', '', '', '', '', '', '', '', '', '', '', '', '', '', '', '', '', '', '', '', '']\n",
      "['5월', '30,806', '1,485,684', '37,802', '2,401,204', '', '', '', '', '', '', '', '', '', '', '', '', '', '', '', '', '', '', '', '']\n",
      "['6월', '36,938', '1,476,218', '48,353', '2,495,798', '', '', '', '', '', '', '', '', '', '', '', '', '', '', '', '', '', '', '', '']\n",
      "['7월', '61,012', '1,448,067', '65,936', '2,642,585', '', '', '', '', '', '', '', '', '', '', '', '', '', '', '', '', '', '', '', '']\n",
      "['8월', '68,797', '1,586,299', '88,888', '2,427,634', '', '', '', '', '', '', '', '', '', '', '', '', '', '', '', '', '', '', '', '']\n",
      "['9월', '65,040', '1,459,664', '76,798', '2,049,830', '', '', '', '', '', '', '', '', '', '', '', '', '', '', '', '', '', '', '', '']\n",
      "['10월', '61,585', '1,656,195', '71,970', '2,153,847', '', '', '', '', '', '', '', '', '', '', '', '', '', '', '', '', '', '', '', '']\n",
      "['11월', '61,764', '1,456,429', '70,686', '2,090,192', '', '', '', '', '', '', '', '', '', '', '', '', '', '', '', '', '', '', '', '']\n",
      "['12월', '62,344', '1,456,888', '80,973', '2,342,310', '', '', '', '', '', '', '', '', '', '', '', '', '', '', '', '', '', '', '', '']\n"
     ]
    }
   ],
   "source": [
    "import csv\n",
    "\n",
    "f = open(\"해외여행3.csv\", \"r\")\n",
    "reader = csv.reader(f)\n",
    "\n",
    "for row in reader:\n",
    "    print(row)"
   ]
  },
  {
   "cell_type": "code",
   "execution_count": 17,
   "metadata": {},
   "outputs": [
    {
     "ename": "TypeError",
     "evalue": "read_csv() got an unexpected keyword argument 'name'",
     "output_type": "error",
     "traceback": [
      "\u001b[1;31m---------------------------------------------------------------------------\u001b[0m",
      "\u001b[1;31mTypeError\u001b[0m                                 Traceback (most recent call last)",
      "\u001b[1;32m<ipython-input-17-c5fa1255d0c6>\u001b[0m in \u001b[0;36m<module>\u001b[1;34m\u001b[0m\n\u001b[0;32m      4\u001b[0m \u001b[0mnation\u001b[0m \u001b[1;33m=\u001b[0m \u001b[1;34m'해외관광객'\u001b[0m\u001b[1;33m\u001b[0m\u001b[1;33m\u001b[0m\u001b[0m\n\u001b[0;32m      5\u001b[0m \u001b[1;33m\u001b[0m\u001b[0m\n\u001b[1;32m----> 6\u001b[1;33m csv = pd.read_csv('해외여행3.csv', \\\n\u001b[0m\u001b[0;32m      7\u001b[0m                   \u001b[0mname\u001b[0m \u001b[1;33m=\u001b[0m \u001b[1;33m[\u001b[0m\u001b[1;34m'foreigner'\u001b[0m\u001b[1;33m,\u001b[0m \u001b[1;34m'nation'\u001b[0m\u001b[1;33m]\u001b[0m\u001b[1;33m,\u001b[0m\u001b[0;31m \u001b[0m\u001b[0;31m\\\u001b[0m\u001b[1;33m\u001b[0m\u001b[1;33m\u001b[0m\u001b[0m\n\u001b[0;32m      8\u001b[0m                   encoding = 'CP949')\n",
      "\u001b[1;31mTypeError\u001b[0m: read_csv() got an unexpected keyword argument 'name'"
     ]
    }
   ],
   "source": [
    "import pandas as pd\n",
    " \n",
    "foreigner = '외래관광객'\n",
    "nation = '해외관광객'\n",
    "\n",
    "csv = pd.read_csv('해외여행3.csv', \\\n",
    "                  name = ['foreigner', 'nation'], \\\n",
    "                  encoding = 'CP949')\n",
    "\n",
    "find_row = csv.loc[(csv['foreigner'] == foreigner) & (csv['nation'] == nation)]\n",
    "\n",
    "find_row = find.row.iloc[:,:2]\n",
    "print(find_row)"
   ]
  },
  {
   "cell_type": "code",
   "execution_count": 16,
   "metadata": {},
   "outputs": [
    {
     "ename": "SyntaxError",
     "evalue": "invalid syntax (<ipython-input-16-ea97c7b70e6e>, line 8)",
     "output_type": "error",
     "traceback": [
      "\u001b[1;36m  File \u001b[1;32m\"<ipython-input-16-ea97c7b70e6e>\"\u001b[1;36m, line \u001b[1;32m8\u001b[0m\n\u001b[1;33m    j2019 = i[]\u001b[0m\n\u001b[1;37m              ^\u001b[0m\n\u001b[1;31mSyntaxError\u001b[0m\u001b[1;31m:\u001b[0m invalid syntax\n"
     ]
    }
   ],
   "source": [
    "f = open('해외여행3.csv', encoding = 'cp949')\n",
    "data = csv.reader(f)\n",
    "header = next(data)\n",
    "\n",
    "for i in data:\n",
    "    if '관광객' in i[0]:\n",
    "        j2020 = i[5]\n",
    "        j2019 = i[]\n",
    "        print('19년도 : ',j201912,'\\t','20년도: ',j202012)"
   ]
  },
  {
   "cell_type": "code",
   "execution_count": 15,
   "metadata": {},
   "outputs": [],
   "source": []
  }
 ],
 "metadata": {
  "kernelspec": {
   "display_name": "Python 3",
   "language": "python",
   "name": "python3"
  },
  "language_info": {
   "codemirror_mode": {
    "name": "ipython",
    "version": 3
   },
   "file_extension": ".py",
   "mimetype": "text/x-python",
   "name": "python",
   "nbconvert_exporter": "python",
   "pygments_lexer": "ipython3",
   "version": "3.8.5"
  }
 },
 "nbformat": 4,
 "nbformat_minor": 4
}
