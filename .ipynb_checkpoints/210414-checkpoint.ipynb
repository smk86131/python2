{
 "cells": [
  {
   "cell_type": "code",
   "execution_count": 3,
   "metadata": {},
   "outputs": [
    {
     "ename": "SyntaxError",
     "evalue": "invalid syntax (<ipython-input-3-6d7acada7a7a>, line 1)",
     "output_type": "error",
     "traceback": [
      "\u001b[1;36m  File \u001b[1;32m\"<ipython-input-3-6d7acada7a7a>\"\u001b[1;36m, line \u001b[1;32m1\u001b[0m\n\u001b[1;33m    a = set(x for x in range(10) if x % 2 == 1) :\u001b[0m\n\u001b[1;37m                                                ^\u001b[0m\n\u001b[1;31mSyntaxError\u001b[0m\u001b[1;31m:\u001b[0m invalid syntax\n"
     ]
    }
   ],
   "source": [
    "a = set(x for x in range(10) if x % 2 == 1)\n",
    "print(a)\n",
    "\n"
   ]
  },
  {
   "cell_type": "code",
   "execution_count": 4,
   "metadata": {},
   "outputs": [
    {
     "name": "stdout",
     "output_type": "stream",
     "text": [
      "Got 0\n",
      "Got 1\n",
      "Got 2\n",
      "Got 3\n",
      "Got 4\n",
      "Got 5\n",
      "Got 6\n",
      "Got 7\n",
      "Got 8\n",
      "Got 9\n"
     ]
    }
   ],
   "source": [
    "for i in ('Got %d' % x for x in range(10)) :\n",
    "    print(i)"
   ]
  },
  {
   "cell_type": "code",
   "execution_count": 20,
   "metadata": {},
   "outputs": [],
   "source": [
    "def make_a_sound():\n",
    "    print('quack')\n",
    "    \n",
    "\n",
    "    make_a_sound()"
   ]
  },
  {
   "cell_type": "code",
   "execution_count": 17,
   "metadata": {},
   "outputs": [
    {
     "name": "stdout",
     "output_type": "stream",
     "text": [
      "Splendid!\n"
     ]
    }
   ],
   "source": [
    "def agree():\n",
    "    return True\n",
    "if agree():\n",
    "    print('Splendid!')\n",
    "else:\n",
    "    print('That was unexpecdtd.')\n"
   ]
  },
  {
   "cell_type": "code",
   "execution_count": 22,
   "metadata": {},
   "outputs": [
    {
     "data": {
      "text/plain": [
       "'Rumplestiltskin Rumplestiltskin'"
      ]
     },
     "execution_count": 22,
     "metadata": {},
     "output_type": "execute_result"
    }
   ],
   "source": [
    "def echo(anything):\n",
    "    return anything + ' ' + anything\n",
    "echo('Rumplestiltskin')"
   ]
  },
  {
   "cell_type": "code",
   "execution_count": 26,
   "metadata": {},
   "outputs": [
    {
     "name": "stdout",
     "output_type": "stream",
     "text": [
      "It's no thing\n",
      "It;s nothing\n"
     ]
    }
   ],
   "source": [
    "thing = None\n",
    "if thing:\n",
    "    print(\"It;s some thing\")\n",
    "else:\n",
    "    print(\"It's no thing\")\n",
    "\n",
    "thing = None\n",
    "if thing is None:\n",
    "    print(\"It;s nothing\")\n",
    "else:\n",
    "    print(\"It's something\")\n",
    "    "
   ]
  },
  {
   "cell_type": "code",
   "execution_count": 45,
   "metadata": {},
   "outputs": [
    {
     "name": "stdout",
     "output_type": "stream",
     "text": [
      "None is None\n",
      "True is True\n",
      "False is False\n",
      "0 is False\n",
      " is False\n",
      "1 is True\n"
     ]
    }
   ],
   "source": [
    "def whatis(thing):\n",
    "    if thing is None:\n",
    "        print(thing, \"is None\")\n",
    "    elif thing:\n",
    "        print(thing, \"is True\")\n",
    "    else:\n",
    "        print(thing, \"is False\")\n",
    "\n",
    "whatis(None)\n",
    "\n",
    "whatis(True)\n",
    "\n",
    "whatis(False)\n",
    "\n",
    "whatis(0)\n",
    "\n",
    "whatis('')\n",
    "\n",
    "whatis(1)"
   ]
  },
  {
   "cell_type": "code",
   "execution_count": 49,
   "metadata": {},
   "outputs": [
    {
     "data": {
      "text/plain": [
       "{'wine': 'bordeaux', 'entree': 'beef', 'dessert': 'bagel'}"
      ]
     },
     "execution_count": 49,
     "metadata": {},
     "output_type": "execute_result"
    }
   ],
   "source": [
    "def menu(wine, entree, dessert):\n",
    "    return {'wine' : wine, 'entree' : entree, 'dessert' : dessert}\n",
    "\n",
    "menu('chardonnay', 'chicken', 'cake')\n",
    "\n",
    "menu('beef', 'bagel', 'bordeaux')\n",
    "\n",
    "menu(entree='beef', dessert='bagel', wine='bordeaux')\n"
   ]
  },
  {
   "cell_type": "code",
   "execution_count": 53,
   "metadata": {},
   "outputs": [
    {
     "data": {
      "text/plain": [
       "{'wine': 'denkelfelder', 'entree': 'duck', 'dessert': 'doughnut'}"
      ]
     },
     "execution_count": 53,
     "metadata": {},
     "output_type": "execute_result"
    }
   ],
   "source": [
    "def menu(wine, entree, dessert='pudding'):\n",
    "    return {'wine':wine, 'entree':entree, 'dessert':dessert}\n",
    "\n",
    "menu('chardonnay', 'chicken')\n",
    "\n",
    "menu('denkelfelder','duck','doughnut')"
   ]
  },
  {
   "cell_type": "code",
   "execution_count": 55,
   "metadata": {},
   "outputs": [
    {
     "name": "stdout",
     "output_type": "stream",
     "text": [
      "['a']\n",
      "['a', 'b']\n"
     ]
    }
   ],
   "source": [
    "def buggy(arg, result=[]):\n",
    "    result.append(arg)\n",
    "    print(result)\n",
    "    \n",
    "buggy('a')\n",
    "\n",
    "buggy('b')"
   ]
  },
  {
   "cell_type": "code",
   "execution_count": 59,
   "metadata": {},
   "outputs": [
    {
     "data": {
      "text/plain": [
       "['b']"
      ]
     },
     "execution_count": 59,
     "metadata": {},
     "output_type": "execute_result"
    }
   ],
   "source": [
    "def works(arg):\n",
    "    result=[]\n",
    "    result.append(arg)\n",
    "    return result\n",
    "\n",
    "works('a')\n",
    "\n",
    "works('b')"
   ]
  },
  {
   "cell_type": "code",
   "execution_count": 64,
   "metadata": {},
   "outputs": [
    {
     "name": "stdout",
     "output_type": "stream",
     "text": [
      "['a']\n",
      "['b']\n"
     ]
    }
   ],
   "source": [
    "def nonbuggy(arg, result=None):\n",
    "    if result is None:\n",
    "        result = []\n",
    "    result.append(arg)\n",
    "    print(result)\n",
    "\n",
    "nonbuggy('a')\n",
    "\n",
    "nonbuggy('b')"
   ]
  },
  {
   "cell_type": "code",
   "execution_count": 79,
   "metadata": {},
   "outputs": [
    {
     "name": "stdout",
     "output_type": "stream",
     "text": [
      "Positional tuple: ()\n",
      "Positional tuple: (3, 2, 1, 'wait!', 'uh...')\n"
     ]
    }
   ],
   "source": [
    "def print_args(*args):\n",
    "    print('Positional tuple:', args)\n",
    "\n",
    "print_args()\n",
    "    \n",
    "print_args(3, 2, 1, 'wait!', 'uh...')\n"
   ]
  },
  {
   "cell_type": "code",
   "execution_count": 84,
   "metadata": {},
   "outputs": [
    {
     "name": "stdout",
     "output_type": "stream",
     "text": [
      "Need this one: cap\n",
      "Need this one. too: gloves\n",
      "All the rest: ('scarf', 'monocle', 'mustache wax')\n"
     ]
    }
   ],
   "source": [
    "def print_more(required1, required2, *args):\n",
    "    print('Need this one:', required1)\n",
    "    print('Need this one. too:', required2)\n",
    "    print('All the rest:', args)\n",
    "    \n",
    "print_more('cap', 'gloves', 'scarf', 'monocle', 'mustache wax')"
   ]
  },
  {
   "cell_type": "code",
   "execution_count": 88,
   "metadata": {},
   "outputs": [
    {
     "name": "stdout",
     "output_type": "stream",
     "text": [
      "Keyword argumentis: {}\n",
      "Keyword argumentis: {'wine': 'merlot', 'entree': 'mutton', 'dessert': 'macaroon'}\n"
     ]
    }
   ],
   "source": [
    "def print_kwargs(**kwargs):\n",
    "    print('Keyword argumentis:', kwargs)\n",
    "    \n",
    "print_kwargs()\n",
    "print_kwargs(wine='merlot', entree='mutton', dessert='macaroon')\n"
   ]
  },
  {
   "cell_type": "code",
   "execution_count": 92,
   "metadata": {},
   "outputs": [
    {
     "data": {
      "text/plain": [
       "['one', 'terrible!', 'day']"
      ]
     },
     "execution_count": 92,
     "metadata": {},
     "output_type": "execute_result"
    }
   ],
   "source": [
    "outside = ['one', 'fine', 'day']\n",
    "def mangle(arg):\n",
    "    arg[1] = 'terrible!'\n",
    "    \n",
    "outside\n",
    "\n",
    "mangle(outside)\n",
    "outside"
   ]
  },
  {
   "cell_type": "code",
   "execution_count": 111,
   "metadata": {
    "scrolled": true
   },
   "outputs": [
    {
     "ename": "IndentationError",
     "evalue": "unindent does not match any outer indentation level (<tokenize>, line 3)",
     "output_type": "error",
     "traceback": [
      "\u001b[1;36m  File \u001b[1;32m\"<tokenize>\"\u001b[1;36m, line \u001b[1;32m3\u001b[0m\n\u001b[1;33m    for i in range(1, n+1) :\u001b[0m\n\u001b[1;37m    ^\u001b[0m\n\u001b[1;31mIndentationError\u001b[0m\u001b[1;31m:\u001b[0m unindent does not match any outer indentation level\n"
     ]
    }
   ],
   "source": [
    "def factorial(n):\n",
    "        result = 1\n",
    "    for i in range(1, n+1) :\n",
    "            result *= i\n",
    "            \n",
    "    return result\n",
    "\n",
    "print(factorial(10))"
   ]
  },
  {
   "cell_type": "code",
   "execution_count": 112,
   "metadata": {},
   "outputs": [
    {
     "name": "stdout",
     "output_type": "stream",
     "text": [
      "10\n",
      "3628800\n"
     ]
    }
   ],
   "source": [
    "import math\n",
    "n = int(input())\n",
    "print(math.factorial(n))"
   ]
  },
  {
   "cell_type": "code",
   "execution_count": 189,
   "metadata": {},
   "outputs": [
    {
     "name": "stdout",
     "output_type": "stream",
     "text": [
      "34\n"
     ]
    }
   ],
   "source": [
    "def fibo(n: int) -> int:\n",
    "\n",
    "    if n <= 2:\n",
    "        return 1\n",
    "    return fibo(n - 1) + fibo(n - 2)\n"
   ]
  },
  {
   "cell_type": "code",
   "execution_count": 115,
   "metadata": {
    "scrolled": true
   },
   "outputs": [
    {
     "name": "stdout",
     "output_type": "stream",
     "text": [
      "1 1\n",
      "2 1\n",
      "3 2\n",
      "4 3\n",
      "5 5\n",
      "6 8\n",
      "7 13\n",
      "8 21\n",
      "9 34\n",
      "10 55\n"
     ]
    }
   ],
   "source": [
    "def fibo(n):\n",
    "    return fibo(n-1) + fibo(n-2) if n >= 2 else n\n",
    "\n",
    "for n in range(1, 11):\n",
    "    print(n, fibo(n))"
   ]
  },
  {
   "cell_type": "code",
   "execution_count": 131,
   "metadata": {},
   "outputs": [
    {
     "name": "stdout",
     "output_type": "stream",
     "text": [
      "34\n"
     ]
    }
   ],
   "source": [
    "def fibonacci(num): \n",
    "    a, b = 0, 1 \n",
    "    for i in range(num): \n",
    "        a, b = b, a+b \n",
    "    return a\n",
    "\n",
    "print(fibonacci(9))\n"
   ]
  },
  {
   "cell_type": "code",
   "execution_count": 134,
   "metadata": {},
   "outputs": [
    {
     "data": {
      "text/plain": [
       "34"
      ]
     },
     "execution_count": 134,
     "metadata": {},
     "output_type": "execute_result"
    }
   ],
   "source": [
    "\n",
    "fibonacci(9)"
   ]
  },
  {
   "cell_type": "code",
   "execution_count": 144,
   "metadata": {},
   "outputs": [
    {
     "ename": "SyntaxError",
     "evalue": "EOL while scanning string literal (<ipython-input-144-6a9151855e89>, line 16)",
     "output_type": "error",
     "traceback": [
      "\u001b[1;36m  File \u001b[1;32m\"<ipython-input-144-6a9151855e89>\"\u001b[1;36m, line \u001b[1;32m16\u001b[0m\n\u001b[1;33m    print('1.더하기\\n 2.빼기\\n 3.곱하기\\n 4.나누기\\n 5.나머지\\n 6.나가기\\n)\u001b[0m\n\u001b[1;37m                                                          ^\u001b[0m\n\u001b[1;31mSyntaxError\u001b[0m\u001b[1;31m:\u001b[0m EOL while scanning string literal\n"
     ]
    }
   ],
   "source": [
    "def sum(a,b):\n",
    "    return a+b\n",
    "\n",
    "def sub(a,b):\n",
    "    return a-b\n",
    "\n",
    "def mul(a,b):\n",
    "    return a*b\n",
    "\n",
    "def div(a,b):\n",
    "    return a/b\n",
    "\n",
    "def rem(a,b):\n",
    "    return a%b\n",
    "\n",
    "print('1.더하기\\n 2.빼기\\n 3.곱하기\\n 4.나누기\\n 5.나머지\\n 6.나가기\\n)\n",
    "      \n",
    "while True:\n",
    "      menu=int(input(' :'))\n",
    "      \n",
    "      \n",
    "\n",
    "\n",
    "    "
   ]
  },
  {
   "cell_type": "code",
   "execution_count": 143,
   "metadata": {
    "scrolled": false
   },
   "outputs": [
    {
     "name": "stdout",
     "output_type": "stream",
     "text": [
      "삭제하려면: del \n",
      " 첫번째 수 : 1\n"
     ]
    },
    {
     "ename": "NameError",
     "evalue": "name 'remove' is not defined",
     "output_type": "error",
     "traceback": [
      "\u001b[1;31m---------------------------------------------------------------------------\u001b[0m",
      "\u001b[1;31mNameError\u001b[0m                                 Traceback (most recent call last)",
      "\u001b[1;32m<ipython-input-143-35902ec1f05d>\u001b[0m in \u001b[0;36m<module>\u001b[1;34m\u001b[0m\n\u001b[0;32m     15\u001b[0m     \u001b[0mprint\u001b[0m\u001b[1;33m(\u001b[0m\u001b[1;34m'삭제하려면: del '\u001b[0m\u001b[1;33m)\u001b[0m\u001b[1;33m\u001b[0m\u001b[1;33m\u001b[0m\u001b[0m\n\u001b[0;32m     16\u001b[0m     \u001b[0mnumber1\u001b[0m \u001b[1;33m=\u001b[0m \u001b[0mint\u001b[0m\u001b[1;33m(\u001b[0m\u001b[0minput\u001b[0m\u001b[1;33m(\u001b[0m\u001b[1;34m' 첫번째 수 : '\u001b[0m\u001b[1;33m)\u001b[0m\u001b[1;33m)\u001b[0m\u001b[1;33m\u001b[0m\u001b[1;33m\u001b[0m\u001b[0m\n\u001b[1;32m---> 17\u001b[1;33m     \u001b[1;32mif\u001b[0m \u001b[1;33m(\u001b[0m \u001b[0mnumber1\u001b[0m \u001b[1;33m==\u001b[0m \u001b[0mremove\u001b[0m \u001b[1;33m)\u001b[0m\u001b[1;33m:\u001b[0m\u001b[1;33m\u001b[0m\u001b[1;33m\u001b[0m\u001b[0m\n\u001b[0m\u001b[0;32m     18\u001b[0m         \u001b[0mprint\u001b[0m\u001b[1;33m(\u001b[0m\u001b[1;34m'삭제'\u001b[0m\u001b[1;33m)\u001b[0m\u001b[1;33m\u001b[0m\u001b[1;33m\u001b[0m\u001b[0m\n\u001b[0;32m     19\u001b[0m         \u001b[1;32mbreak\u001b[0m\u001b[1;33m\u001b[0m\u001b[1;33m\u001b[0m\u001b[0m\n",
      "\u001b[1;31mNameError\u001b[0m: name 'remove' is not defined"
     ]
    }
   ],
   "source": [
    "def plus(a, b):\n",
    "    return a + b\n",
    "    \n",
    "def minus(a, b):\n",
    "    return a - b\n",
    "    \n",
    "def multi(a, b):\n",
    "    return a * b\n",
    "    \n",
    "def divi(a, b):\n",
    "    return a // b\n",
    "    \n",
    "while ( True ) :\n",
    "\n",
    "    print(' 종료 하려면 : 0 ')\n",
    "    number1 = int(input(' 첫번째 수 : '))\n",
    "    if ( number1 == 0 ):\n",
    "        print(' Good - Bye! ')\n",
    "        break\n",
    "    oper = str(input(' +, -, *, / : '))\n",
    "    number2 = int(input(' 두번째 수 : '))\n",
    "\n",
    "    if ( oper == '+' ):\n",
    "        res = plus( number1, number2 )\n",
    "        \n",
    "    elif ( oper == '-' ):\n",
    "        res = minus( number1, number2 )\n",
    "        \n",
    "    elif ( oper == '*' ):\n",
    "        res = multi( number1, number2 )\n",
    "        \n",
    "    elif ( oper == '/' ):\n",
    "        res = divi( number1, number2 )\n",
    "\n",
    "    else:\n",
    "        print('{} 연산자 없음'.format(oper))\n",
    "\n",
    "    print(' 결과 : {} {} {} = {}'.format(number1, oper, number2, res))"
   ]
  },
  {
   "cell_type": "code",
   "execution_count": 138,
   "metadata": {},
   "outputs": [
    {
     "name": "stdout",
     "output_type": "stream",
     "text": [
      "  Menu  \n",
      "--------\n",
      " 1: add \n",
      " 2: sub \n",
      " 3: multiply\n",
      " 4: divide\n",
      " 5: stop\n"
     ]
    },
    {
     "ename": "KeyboardInterrupt",
     "evalue": "Interrupted by user",
     "output_type": "error",
     "traceback": [
      "\u001b[1;31m---------------------------------------------------------------------------\u001b[0m",
      "\u001b[1;31mKeyboardInterrupt\u001b[0m                         Traceback (most recent call last)",
      "\u001b[1;32m<ipython-input-138-e7f9463cb761>\u001b[0m in \u001b[0;36m<module>\u001b[1;34m\u001b[0m\n\u001b[0;32m     34\u001b[0m     \u001b[0mprint\u001b[0m\u001b[1;33m(\u001b[0m\u001b[1;34m\" 4: divide\"\u001b[0m\u001b[1;33m)\u001b[0m\u001b[1;33m\u001b[0m\u001b[1;33m\u001b[0m\u001b[0m\n\u001b[0;32m     35\u001b[0m     \u001b[0mprint\u001b[0m\u001b[1;33m(\u001b[0m\u001b[1;34m\" 5: stop\"\u001b[0m\u001b[1;33m)\u001b[0m\u001b[1;33m\u001b[0m\u001b[1;33m\u001b[0m\u001b[0m\n\u001b[1;32m---> 36\u001b[1;33m     \u001b[0msel\u001b[0m \u001b[1;33m=\u001b[0m \u001b[0mint\u001b[0m\u001b[1;33m(\u001b[0m\u001b[0minput\u001b[0m\u001b[1;33m(\u001b[0m\u001b[1;34m\":\"\u001b[0m\u001b[1;33m)\u001b[0m\u001b[1;33m)\u001b[0m\u001b[1;33m\u001b[0m\u001b[1;33m\u001b[0m\u001b[0m\n\u001b[0m\u001b[0;32m     37\u001b[0m \u001b[1;33m\u001b[0m\u001b[0m\n\u001b[0;32m     38\u001b[0m     \u001b[1;32mif\u001b[0m\u001b[1;33m(\u001b[0m\u001b[0msel\u001b[0m \u001b[1;33m==\u001b[0m \u001b[1;36m1\u001b[0m\u001b[1;33m)\u001b[0m\u001b[1;33m:\u001b[0m\u001b[1;33m\u001b[0m\u001b[1;33m\u001b[0m\u001b[0m\n",
      "\u001b[1;32mC:\\ProgramData\\Anaconda3\\lib\\site-packages\\ipykernel\\kernelbase.py\u001b[0m in \u001b[0;36mraw_input\u001b[1;34m(self, prompt)\u001b[0m\n\u001b[0;32m    858\u001b[0m                 \u001b[1;34m\"raw_input was called, but this frontend does not support input requests.\"\u001b[0m\u001b[1;33m\u001b[0m\u001b[1;33m\u001b[0m\u001b[0m\n\u001b[0;32m    859\u001b[0m             )\n\u001b[1;32m--> 860\u001b[1;33m         return self._input_request(str(prompt),\n\u001b[0m\u001b[0;32m    861\u001b[0m             \u001b[0mself\u001b[0m\u001b[1;33m.\u001b[0m\u001b[0m_parent_ident\u001b[0m\u001b[1;33m,\u001b[0m\u001b[1;33m\u001b[0m\u001b[1;33m\u001b[0m\u001b[0m\n\u001b[0;32m    862\u001b[0m             \u001b[0mself\u001b[0m\u001b[1;33m.\u001b[0m\u001b[0m_parent_header\u001b[0m\u001b[1;33m,\u001b[0m\u001b[1;33m\u001b[0m\u001b[1;33m\u001b[0m\u001b[0m\n",
      "\u001b[1;32mC:\\ProgramData\\Anaconda3\\lib\\site-packages\\ipykernel\\kernelbase.py\u001b[0m in \u001b[0;36m_input_request\u001b[1;34m(self, prompt, ident, parent, password)\u001b[0m\n\u001b[0;32m    902\u001b[0m             \u001b[1;32mexcept\u001b[0m \u001b[0mKeyboardInterrupt\u001b[0m\u001b[1;33m:\u001b[0m\u001b[1;33m\u001b[0m\u001b[1;33m\u001b[0m\u001b[0m\n\u001b[0;32m    903\u001b[0m                 \u001b[1;31m# re-raise KeyboardInterrupt, to truncate traceback\u001b[0m\u001b[1;33m\u001b[0m\u001b[1;33m\u001b[0m\u001b[1;33m\u001b[0m\u001b[0m\n\u001b[1;32m--> 904\u001b[1;33m                 \u001b[1;32mraise\u001b[0m \u001b[0mKeyboardInterrupt\u001b[0m\u001b[1;33m(\u001b[0m\u001b[1;34m\"Interrupted by user\"\u001b[0m\u001b[1;33m)\u001b[0m \u001b[1;32mfrom\u001b[0m \u001b[1;32mNone\u001b[0m\u001b[1;33m\u001b[0m\u001b[1;33m\u001b[0m\u001b[0m\n\u001b[0m\u001b[0;32m    905\u001b[0m             \u001b[1;32mexcept\u001b[0m \u001b[0mException\u001b[0m \u001b[1;32mas\u001b[0m \u001b[0me\u001b[0m\u001b[1;33m:\u001b[0m\u001b[1;33m\u001b[0m\u001b[1;33m\u001b[0m\u001b[0m\n\u001b[0;32m    906\u001b[0m                 \u001b[0mself\u001b[0m\u001b[1;33m.\u001b[0m\u001b[0mlog\u001b[0m\u001b[1;33m.\u001b[0m\u001b[0mwarning\u001b[0m\u001b[1;33m(\u001b[0m\u001b[1;34m\"Invalid Message:\"\u001b[0m\u001b[1;33m,\u001b[0m \u001b[0mexc_info\u001b[0m\u001b[1;33m=\u001b[0m\u001b[1;32mTrue\u001b[0m\u001b[1;33m)\u001b[0m\u001b[1;33m\u001b[0m\u001b[1;33m\u001b[0m\u001b[0m\n",
      "\u001b[1;31mKeyboardInterrupt\u001b[0m: Interrupted by user"
     ]
    }
   ],
   "source": [
    "def add():\n",
    "    num = int(input(\"num1:\"))\n",
    "    num2 = int(input(\"num2:\"))\n",
    "    result = num + num2\n",
    "    print(result)\n",
    "\n",
    "def sub():\n",
    "    num = int(input(\"num1:\"))\n",
    "    num2 = int(input(\"num2:\"))\n",
    "    result = num - num2\n",
    "    print(result)\n",
    "\n",
    "def multiply():\n",
    "    num = int(input(\"num1:\"))\n",
    "    num2 = int(input(\"num2:\"))\n",
    "    result = num * num2\n",
    "    print(result)\n",
    "\n",
    "def divide():\n",
    "    num = int(input(\"num1:\"))\n",
    "    num2 = int(input(\"num2:\"))\n",
    "    if num ==0 or num2 == 0:\n",
    "        print(\"Error\")\n",
    "        return\n",
    "    result = num / num2\n",
    "    print(result)\n",
    "\n",
    "while True:\n",
    "    print(\"  Menu  \")\n",
    "    print(\"--------\")\n",
    "    print(\" 1: add \")\n",
    "    print(\" 2: sub \")\n",
    "    print(\" 3: multiply\")\n",
    "    print(\" 4: divide\")\n",
    "    print(\" 5: stop\")\n",
    "    sel = int(input(\":\"))\n",
    "\n",
    "    if(sel == 1):\n",
    "        add()\n",
    "    elif(sel == 2):\n",
    "        sub()\n",
    "    elif(sel == 3):\n",
    "        multiply()\n",
    "    elif(sel == 4):\n",
    "        divide()        \n",
    "    elif(sel ==5):\n",
    "        break\n",
    "    else:\n",
    "        print(\"Wrong input, please input again\")"
   ]
  },
  {
   "cell_type": "code",
   "execution_count": 151,
   "metadata": {},
   "outputs": [
    {
     "name": "stdout",
     "output_type": "stream",
     "text": [
      " 종료 하려면 : 9 \n",
      " 첫번째 수 : 1\n",
      " +, -, *, / : +\n",
      " 두번째 수 : 2\n",
      " 결과 : 1 + 2 = 3\n",
      " 종료 하려면 : 9 \n",
      " 첫번째 수 : \n"
     ]
    },
    {
     "ename": "ValueError",
     "evalue": "invalid literal for int() with base 10: ''",
     "output_type": "error",
     "traceback": [
      "\u001b[1;31m---------------------------------------------------------------------------\u001b[0m",
      "\u001b[1;31mValueError\u001b[0m                                Traceback (most recent call last)",
      "\u001b[1;32m<ipython-input-151-72b9c7f89181>\u001b[0m in \u001b[0;36m<module>\u001b[1;34m\u001b[0m\n\u001b[0;32m     14\u001b[0m \u001b[1;33m\u001b[0m\u001b[0m\n\u001b[0;32m     15\u001b[0m     \u001b[0mprint\u001b[0m\u001b[1;33m(\u001b[0m\u001b[1;34m' 종료 하려면 : 9 '\u001b[0m\u001b[1;33m)\u001b[0m\u001b[1;33m\u001b[0m\u001b[1;33m\u001b[0m\u001b[0m\n\u001b[1;32m---> 16\u001b[1;33m     \u001b[0mnumber1\u001b[0m \u001b[1;33m=\u001b[0m \u001b[0mint\u001b[0m\u001b[1;33m(\u001b[0m\u001b[0minput\u001b[0m\u001b[1;33m(\u001b[0m\u001b[1;34m' 첫번째 수 : '\u001b[0m\u001b[1;33m)\u001b[0m\u001b[1;33m)\u001b[0m\u001b[1;33m\u001b[0m\u001b[1;33m\u001b[0m\u001b[0m\n\u001b[0m\u001b[0;32m     17\u001b[0m     \u001b[1;32mif\u001b[0m \u001b[1;33m(\u001b[0m \u001b[0mnumber1\u001b[0m \u001b[1;33m==\u001b[0m \u001b[1;36m9\u001b[0m \u001b[1;33m)\u001b[0m\u001b[1;33m:\u001b[0m\u001b[1;33m\u001b[0m\u001b[1;33m\u001b[0m\u001b[0m\n\u001b[0;32m     18\u001b[0m         \u001b[0mprint\u001b[0m\u001b[1;33m(\u001b[0m\u001b[1;34m' 종료 '\u001b[0m\u001b[1;33m)\u001b[0m\u001b[1;33m\u001b[0m\u001b[1;33m\u001b[0m\u001b[0m\n",
      "\u001b[1;31mValueError\u001b[0m: invalid literal for int() with base 10: ''"
     ]
    }
   ],
   "source": [
    "def plus(a, b):\n",
    "    return a + b\n",
    "    \n",
    "def minus(a, b):\n",
    "    return a - b\n",
    "    \n",
    "def multi(a, b):\n",
    "    return a * b\n",
    "    \n",
    "def divi(a, b):\n",
    "    return a // b\n",
    "    \n",
    "while ( True ) :\n",
    "\n",
    "    print(' 종료 하려면 : 9 ')\n",
    "    number1 = int(input(' 첫번째 수 : '))\n",
    "    if ( number1 == 9 ):\n",
    "        print(' 종료 ')\n",
    "        break\n",
    "    oper = str(input(' +, -, *, / : '))\n",
    "    number2 = int(input(' 두번째 수 : '))\n",
    "\n",
    "    if ( oper == '+' ):\n",
    "        res = plus( number1, number2 )\n",
    "        \n",
    "    elif ( oper == '-' ):\n",
    "        res = minus( number1, number2 )\n",
    "        \n",
    "    elif ( oper == '*' ):\n",
    "        res = multi( number1, number2 )\n",
    "        \n",
    "    elif ( oper == '/' ):\n",
    "        res = divi( number1, number2 )\n",
    "\n",
    "    else:\n",
    "        print('{} 연산자 없음'.format(oper))\n",
    "\n",
    "    print(' 결과 : {} {} {} = {}'.format(number1, oper, number2, res))"
   ]
  },
  {
   "cell_type": "code",
   "execution_count": 186,
   "metadata": {},
   "outputs": [
    {
     "name": "stdout",
     "output_type": "stream",
     "text": [
      "      This는         13번 나온다\n",
      "        is는         13번 나온다\n",
      "       the는         20번 나온다\n",
      "       way는         12번 나온다\n",
      "       you는          7번 나온다\n",
      "       I'm는         16번 나온다\n",
      "       not는         11번 나온다\n",
      "        No는          8번 나온다\n",
      "      hope는          8번 나온다\n",
      "        no는         20번 나온다\n",
      "      love는         38번 나온다\n",
      "     glory는          8번 나온다\n",
      "     happy는          8번 나온다\n",
      "      that는          9번 나온다\n",
      "      like는          9번 나온다\n",
      "        of는         35번 나온다\n",
      "        my는         11번 나온다\n",
      "         I는          7번 나온다\n",
      "    little는         14번 나온다\n",
      "       bit는         28번 나온다\n",
      "    Little는         14번 나온다\n",
      "      Cold는          7번 나온다\n"
     ]
    },
    {
     "data": {
      "text/plain": [
       "{'This': 13,\n",
       " 'is': 13,\n",
       " 'the': 20,\n",
       " 'way': 12,\n",
       " 'you': 7,\n",
       " \"I'm\": 16,\n",
       " 'not': 11,\n",
       " 'No': 8,\n",
       " 'hope,': 8,\n",
       " 'no': 20,\n",
       " 'love,': 22,\n",
       " 'glory,': 8,\n",
       " 'happy': 8,\n",
       " 'that': 9,\n",
       " 'like': 9,\n",
       " 'of': 35,\n",
       " 'my': 11,\n",
       " 'love': 16,\n",
       " 'I': 7,\n",
       " 'little': 14,\n",
       " 'bit': 28,\n",
       " 'Little': 14}"
      ]
     },
     "execution_count": 186,
     "metadata": {},
     "output_type": "execute_result"
    }
   ],
   "source": [
    "a='''This is the way you left me, I'm not pretending\n",
    "No hope, no love, no glory, no happy ending\n",
    "This is the way that we love, like it's forever\n",
    "Then live the rest of our life, but not together\n",
    "Wake up in the mornin', stumble on my life\n",
    "Can't get no love without sacrifice\n",
    "If anything should happen, I'd guess I wish you well\n",
    "Mmh, a little bit of Heaven, but a little bit of Hell\n",
    "This is the hardest story that I've ever told\n",
    "No hope, or love, or glory, happy ending's gone forevermore\n",
    "I feel as if I'm wasted\n",
    "And I'm wastin' every day\n",
    "This is the way you left me, I'm not pretending\n",
    "No hope, no love, no glory, no happy ending\n",
    "This is the way that we love, like it's forever\n",
    "Then live the rest of our life, but not together\n",
    "Two o'clock in the morning, something's on my mind\n",
    "Can't get no rest, keep walking around\n",
    "If I pretend that nothing ever went wrong\n",
    "I can get to my sleep, I can think that we just carried on\n",
    "This is the hardest story that I've ever told\n",
    "No hope, or love, or glory, happy ending's gone forevermore\n",
    "I feel as if I'm wasted\n",
    "And I'm wastin' every day\n",
    "This is the way you left me, I'm not pretending\n",
    "No hope, no love no glory, no happy ending\n",
    "This is the way that we love, like it's forever\n",
    "Then live the rest of our life, but not together\n",
    "Little bit of love\n",
    "Little bit of love\n",
    "Little bit of love, little bit of love\n",
    "Little bit of love, little bit of love\n",
    "Little bit of love, little bit of love\n",
    "Little bit of love, little bit of love\n",
    "Little bit of love, little bit of love\n",
    "Little bit of love, little bit of love\n",
    "Little bit of love, little bit of love\n",
    "Little bit of love, little bit of love\n",
    "Little bit of love, little bit of love\n",
    "Little bit of love, little bit of love\n",
    "Little bit of love, little bit of love\n",
    "Little bit of love, little bit of love\n",
    "I feel as if I'm wasted\n",
    "And I'm wastin' every day\n",
    "Hey, hey, hey, hey\n",
    "This is the way you left me, I'm not pretending\n",
    "No hope, no love, no glory, no happy ending\n",
    "This is the way that we loved, like it's forever\n",
    "Then live the rest of our lives, but not together\n",
    "This is the way you left me, I'm not pretending\n",
    "No hope, no love, no glory, no happy ending\n",
    "This is the way that we loved, like it's for ever\n",
    "Then live the rest of our lives, but not together\n",
    "This is the way you left me, I'm not pretending\n",
    "No hope, no love, no glory, no happy ending\n",
    "Over my shoulder, running away\n",
    "Feels like I'm falling, losing my day\n",
    "Cold and dry\n",
    "Cold and dry\n",
    "Forgot my daylight, torture my night\n",
    "Feels like I'm falling, far out of sight\n",
    "Cold, drunk\n",
    "Time lost\n",
    "Over my shoulder, running away\n",
    "Feels like I'm falling, losing my way\n",
    "Cold, dry\n",
    "Cold and dry\n",
    "Forgot my daylight, torture my night\n",
    "Feels like I'm falling, far out of sight\n",
    "Cold, drunk\n",
    "Cold and drunk'''\n",
    "\n",
    "\n",
    "b = a.replace('\\n', ' ')\n",
    "b = b.replace('(', ' ')\n",
    "b = b.replace(')', ' ')\n",
    "b = b.replace(',', ' ')\n",
    "b = b.replace('  ', ' ')\n",
    "c = b.split(' ')\n",
    "\n",
    "lst_a = []\n",
    "cnt_a = []\n",
    "max = 6\n",
    "\n",
    "\n",
    "for i in c :\n",
    "    if i in lst_a :\n",
    "        continue\n",
    "    if (c.count(i) > max) :\n",
    "        cnt_a.append(c.count(i))\n",
    "        lst_a.append(i)\n",
    "        print('%10s는 %10s번 나온다' % (i, c.count(i)))\n",
    "\n",
    "        \n",
    "(lst_a)     \n",
    "\n",
    "#print(cnt_a)\n",
    "#print(lst_a)\n",
    "song = dict(zip(['This', 'is', 'the', 'way', 'you', \"I'm\", 'not', 'No', 'hope,', 'no', 'love,', 'glory,', 'happy', 'that', 'like', 'of', 'my', 'love', 'I', 'little', 'bit', 'Little'],[13, 13, 20, 12, 7, 16, 11, 8, 8, 20, 22, 8, 8, 9, 9, 35, 11, 16, 7, 14, 28, 14]))\n",
    "song\n",
    "\n"
   ]
  },
  {
   "cell_type": "code",
   "execution_count": null,
   "metadata": {},
   "outputs": [],
   "source": [
    "a='''This is the way you left me, I'm not pretending\n",
    "No hope, no love, no glory, no happy ending\n",
    "This is the way that we love, like it's forever\n",
    "Then live the rest of our life, but not together\n",
    "Wake up in the mornin', stumble on my life\n",
    "Can't get no love without sacrifice\n",
    "If anything should happen, I'd guess I wish you well\n",
    "Mmh, a little bit of Heaven, but a little bit of Hell\n",
    "This is the hardest story that I've ever told\n",
    "No hope, or love, or glory, happy ending's gone forevermore\n",
    "I feel as if I'm wasted\n",
    "And I'm wastin' every day\n",
    "This is the way you left me, I'm not pretending\n",
    "No hope, no love, no glory, no happy ending\n",
    "This is the way that we love, like it's forever\n",
    "Then live the rest of our life, but not together\n",
    "Two o'clock in the morning, something's on my mind\n",
    "Can't get no rest, keep walking around\n",
    "If I pretend that nothing ever went wrong\n",
    "I can get to my sleep, I can think that we just carried on\n",
    "This is the hardest story that I've ever told\n",
    "No hope, or love, or glory, happy ending's gone forevermore\n",
    "I feel as if I'm wasted\n",
    "And I'm wastin' every day\n",
    "This is the way you left me, I'm not pretending\n",
    "No hope, no love no glory, no happy ending\n",
    "This is the way that we love, like it's forever\n",
    "Then live the rest of our life, but not together\n",
    "Little bit of love\n",
    "Little bit of love\n",
    "Little bit of love, little bit of love\n",
    "Little bit of love, little bit of love\n",
    "Little bit of love, little bit of love\n",
    "Little bit of love, little bit of love\n",
    "Little bit of love, little bit of love\n",
    "Little bit of love, little bit of love\n",
    "Little bit of love, little bit of love\n",
    "Little bit of love, little bit of love\n",
    "Little bit of love, little bit of love\n",
    "Little bit of love, little bit of love\n",
    "Little bit of love, little bit of love\n",
    "Little bit of love, little bit of love\n",
    "I feel as if I'm wasted\n",
    "And I'm wastin' every day\n",
    "Hey, hey, hey, hey\n",
    "This is the way you left me, I'm not pretending\n",
    "No hope, no love, no glory, no happy ending\n",
    "This is the way that we loved, like it's forever\n",
    "Then live the rest of our lives, but not together\n",
    "This is the way you left me, I'm not pretending\n",
    "No hope, no love, no glory, no happy ending\n",
    "This is the way that we loved, like it's for ever\n",
    "Then live the rest of our lives, but not together\n",
    "This is the way you left me, I'm not pretending\n",
    "No hope, no love, no glory, no happy ending\n",
    "Over my shoulder, running away\n",
    "Feels like I'm falling, losing my day\n",
    "Cold and dry\n",
    "Cold and dry\n",
    "Forgot my daylight, torture my night\n",
    "Feels like I'm falling, far out of sight\n",
    "Cold, drunk\n",
    "Time lost\n",
    "Over my shoulder, running away\n",
    "Feels like I'm falling, losing my way\n",
    "Cold, dry\n",
    "Cold and dry\n",
    "Forgot my daylight, torture my night\n",
    "Feels like I'm falling, far out of sight\n",
    "Cold, drunk\n",
    "Cold and drunk'''\n",
    "\n"
   ]
  }
 ],
 "metadata": {
  "kernelspec": {
   "display_name": "Python 3",
   "language": "python",
   "name": "python3"
  },
  "language_info": {
   "codemirror_mode": {
    "name": "ipython",
    "version": 3
   },
   "file_extension": ".py",
   "mimetype": "text/x-python",
   "name": "python",
   "nbconvert_exporter": "python",
   "pygments_lexer": "ipython3",
   "version": "3.8.5"
  }
 },
 "nbformat": 4,
 "nbformat_minor": 4
}
