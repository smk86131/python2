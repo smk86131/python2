{
 "cells": [
  {
   "cell_type": "code",
   "execution_count": 30,
   "metadata": {},
   "outputs": [
    {
     "ename": "SyntaxError",
     "evalue": "invalid syntax (<ipython-input-30-df37484bcf09>, line 7)",
     "output_type": "error",
     "traceback": [
      "\u001b[1;36m  File \u001b[1;32m\"<ipython-input-30-df37484bcf09>\"\u001b[1;36m, line \u001b[1;32m7\u001b[0m\n\u001b[1;33m    elif '-' in i[5] :\u001b[0m\n\u001b[1;37m    ^\u001b[0m\n\u001b[1;31mSyntaxError\u001b[0m\u001b[1;31m:\u001b[0m invalid syntax\n"
     ]
    }
   ],
   "source": [
    "import csv\n",
    "f = open('210416.csv', encoding = 'cp949')\n",
    "data = csv.reader(f)\n",
    "header = next(data)\n",
    "count = 0\n",
    "for i in data :\n",
    "    elif '-' in i[5] :\n",
    "        continue\n",
    "    if int(i[5]) >= 10000 :\n",
    "        print(i)\n",
    "\n",
    "header = (next)data\n",
    "    print(i)\n",
    "f.close()"
   ]
  },
  {
   "cell_type": "code",
   "execution_count": 60,
   "metadata": {},
   "outputs": [
    {
     "name": "stdout",
     "output_type": "stream",
     "text": [
      "['2', '중앙/권역', '코로나19 중부권역 예방접종센터', '순천향대 천안병원', '천안시 실내배드민턴장 1층', '31212', '충청남도 천안시 동남구 천안대로 357']\n",
      "['3', '중앙/권역', '코로나19 호남권역 예방접종센터', '조선대병원', '조선대학교병원 의성관 5층', '61452', '광주광역시 동구 필문대로 365']\n",
      "['4', '중앙/권역', '코로나19 영남권역 예방접종센터', '양산 부산대병원', '양산 부산대병원 기숙사동 1층', '50612', '경상남도 양산시 물금읍 금오로 20']\n",
      "['5', '지역', '코로나19 대구광역시 중구 예방접종센터', '', '계명대학교 대구동산병원 별관', '41931', '대구시 중구 달성로 56']\n",
      "['7', '지역', '코로나19 부산광역시 부산진구 예방접종센터', '', '부산시민공원 시민사랑채', '47197', '부산 부산진구 시민공원로 73']\n",
      "['8', '지역', '코로나19 인천광역시 연수구 예방접종센터', '', '선학경기장 선학체육관', '21908', '인천광역시 연수구 경원대로 526']\n",
      "['9', '지역', '코로나19 광주광역시 서구 예방접종센터', '', '염주종합체육관', '62048', '광주광역시 서구 금화로 278']\n",
      "['10', '지역', '코로나19 대전광역시 유성구 예방접종센터', '', '유성종합스포츠센터', '34128', '대전광역시 유성구 유성대로 976']\n",
      "['11', '지역', '코로나19 울산광역시 중구 예방접종센터', '', '동천체육관', '44497', '울산시 중구 염포로 85']\n",
      "['12', '지역', '코로나19 세종특별자치시 예방접종센터', '', '남세종종합청소년센터', '30099', '세종특별자치시 달빛1로 227']\n",
      "['13', '지역', '코로나19 경기도 수원시 예방접종센터', '', '아주대 실내체육관', '16499', '경기도 수원시 영통구 월드컵로 206']\n",
      "['14', '지역', '코로나19 경기도 고양시 일산동구 예방접종센터', '', '고양꽃전시관', '10400', '경기도 고양시 일산동구 호수로 595']\n",
      "['15', '지역', '코로나19 강원도 원주시 예방접종센터', '', '치악체육관', '26447', '강원도 원주시 서원대로 279']\n",
      "['16', '지역', '코로나19 충청북도 청주시 예방접종센터', '', '상당구청 스포츠센터', '28806', '충청북도 청주시 상당구 남일면 단재로 466']\n",
      "['17', '지역', '코로나19 충청남도 천안시 서북구 예방접종센터', '', '천안시 실내테니스장', '31157', '충남 천안시 서북구 번영로 208']\n",
      "['18', '지역', '코로나19 전라북도 전주시 예방접종센터', '', '화산체육관', '54984', '전주시 완산구 백제대로 310']\n",
      "['19', '지역', '코로나19 전라남도 목포시 예방접종센터', '', '목포실내체육관', '58608', '전남 목포시 대양로 286']\n",
      "['20', '지역', '코로나19 경상북도 포항시 남구 예방접종센터', '', '포항종합운동장 실내체육관', '37832', '경북 포항시 남구 희망대로 810']\n",
      "['21', '지역', '코로나19 경상남도 창원시 마산구 예방접종센터', '', '마산체육관', '51323', '경남 창원시 마산회원구 삼호로 63']\n",
      "['22', '지역', '코로나19 제주특별자치도 제주시 예방접종센터', '', '한라체육관', '63189', '제주시 서광로2길 24']\n",
      "['29', '지역', '코로나19 부산광역시 남구 예방접종센터', '', '남구국민체육센터', '48563', '부산광역시 남구 백운포로 110']\n",
      "['30', '지역', '코로나19 인천광역시 서구 예방접종센터', '', '인천아시아드주경기장', '22717', '인천광역시 서구 봉수대로 806']\n",
      "['31', '지역', '코로나19 광주광역시 남구 예방접종센터', '', '남구다목적체육관', '61711', '광주광역시 남구 화산로 110']\n",
      "['32', '지역', '코로나19 울산광역시 남구 예방접종센터', '', '남구국민체육센터', '44766', '울산광역시 남구 여천로 38']\n",
      "['33', '지역', '코로나19 경기도 성남시 분당구 예방접종센터', '', '탄천종합운동장 체육회관 이벤트홀', '13495', '경기도 성남시 분당구 탄천로 215']\n",
      "['34', '지역', '코로나19 경기도 안양시 동안구 예방접종센터', '', '안양종합운동장 보조경기장', '13918', '경기도 안양시 동안구 평촌대로 389']\n",
      "['35', '지역', '코로나19 경기도 남양주시 예방접종센터', '', '남양주 체육문화센터', '12244', '경기도 남양주시 다산 지금로 91']\n",
      "['36', '지역', '코로나19 강원도 강릉시 예방접종센터', '', '강릉아레나', '25472', '강원도 강릉시 수리골길 102']\n",
      "['37', '지역', '코로나19 강원도 춘천시 예방접종센터', '', '봄내체육관', '24243', '강원도 춘천시 평화로 25']\n",
      "['38', '지역', '코로나19 강원도 삼척시 예방접종센터', '', '삼척체육관', '25909', '강원도 삼척시 동해대로 4234']\n",
      "['39', '지역', '코로나19 충청북도 충주시 예방접종센터', '', '충주체육관', '27371', '충청북도 충주시 예성로 266']\n",
      "['40', '지역', '코로나19 충청북도 음성군 예방접종센터', '', '음성실내체육관', '27704', '충청북도 음성군 설성로 47']\n",
      "['41', '지역', '코로나19 충청남도 아산시 예방접종센터', '', '이순신종합운동장 복합스포츠센터', '31528', '충청남도 아산시 남부로 370-24']\n",
      "['42', '지역', '코로나19 충청남도 논산시 예방접종센터', '', '시민운동장', '32993', '충청남도 논산시 체육로 110']\n",
      "['43', '지역', '코로나19 전라북도 군산시 예방접종센터', '', '월명종합경기장 월명체육관', '54078', '전라북도 군산시 번영로 281']\n",
      "['44', '지역', '코로나19 전라북도 정읍시 예방접종센터', '', '정읍실내체육관', '56158', '전라북도 정읍시 서부로 9']\n",
      "['45', '지역', '코로나19 전라북도 남원시 예방접종센터', '', '춘향골 체육관', '55766', '전라북도 남원시 충정로 341']\n",
      "['46', '지역', '코로나19 전라남도 여수시 예방접종센터', '', '흥국체육관', '59676', '전라남도 여수시 선소로 93']\n",
      "['47', '지역', '코로나19 전라남도 순천시 예방접종센터', '', '순천대학교 국제문화컨벤션관', '57922', '전라남도 순천시 중앙로 235']\n",
      "['48', '지역', '코로나19 경상남도 진주시 예방접종센터', '', '진주종합실내체육관(초전동)', '52733', '경상남도 진주시 남강로 1655']\n",
      "['49', '지역', '코로나19 경상남도 통영시 예방접종센터', '', '충무체육관', '53047', '경상남도 통영시 북문2길 34']\n",
      "['51', '지역', '코로나19 부산광역시 금정구  예방접종센터 ', '', '금정문화회관 생활문화관', '46251', '부산광역시 금정구 체육공원로 7']\n",
      "['52', '지역', '코로나19 부산광역시 북구  예방접종센터 ', '', '북구문화예술회관', '46547', '부산광역시 북구 금곡대로 46번길 50']\n",
      "['53', '지역', '코로나19 인천광역시 부평구 예방접종센터 ', '', '삼산월드체육관', '21343', '인천광역시 부평구 체육관로 60']\n",
      "['54', '지역', '코로나19 대구광역시 동구 예방접종센터 ', '', '아양아트센터', '41179', '대구광역시 동구 효동로2길 24']\n",
      "['55', '지역', '코로나19 대구광역시 달서구 예방접종센터 ', '', '성서산업단지 다목적체육관', '42718', '대구광역시 달서구 성서공단로22길 25']\n",
      "['56', '지역', '코로나19 울산광역시 북구 예방접종센터 ', '', '오토밸리복지센터', '44248', '울산광역시 북구 산업로 1020']\n",
      "['57', '지역', '코로나19 경기도 안산시 단원구 예방접종센터 ', '', '올림픽기념관 체육관', '15335', '경기 안산시 단원구 적금로202']\n",
      "['58', '지역', '코로나19 경기도 용인시 처인구 예방접종센터 ', '', '용인미르스타디움', '16997', '경기 용인시 처인구 동백죽전대로 61']\n",
      "['59', '지역', '코로나19 경기도 화성시 예방접종센터 ', '', '동탄나래울 종합사회복지관', '18427', '경기 화성시 여울로2길 33']\n",
      "['60', '지역', '코로나19 경기도 시흥시 예방접종센터 ', '', '정왕평생학습관', '15055', '경기 시흥시 정왕대로 233번길 21']\n",
      "['61', '지역', '코로나19 충청남도 서산시 예방접종센터 ', '', '서산시민체육관', '31963', '충남 서산시 안견로 661']\n",
      "['62', '지역', '코로나19 전라남도 광양시 예방접종센터 ', '', '광양실내체육관', '57728', '전남 광양시 봉강면 매천로 695-20']\n",
      "['63', '지역', '코로나19 전라남도 구례군 예방접종센터 ', '', '구례실내체육관', '57635', '전남 구례군 구례읍 서시천로 76-11']\n",
      "['64', '지역', '코로나19 전라남도 해남군 예방접종센터 ', '', '건강누리센터', '59038', '전남 해남군 해남로 46']\n",
      "['65', '지역', '코로나19 전라남도 영광군 예방접종센터 ', '', '영광스포티움 실내보조체육관', '57035', '전남 영광군 영광읍 월현로 170']\n",
      "['66', '지역', '코로나19 경상북도 포항시 북구 예방접종센터 ', '', '양덕한마음체육관', '37598', '경북 포항시 북구 새천년대로1460']\n",
      "['67', '지역', '코로나19 경상북도 안동시 예방접종센터 ', '', '안동체육관 실내보조경기장', '36709', '경북 안동시 육사로 205']\n",
      "['68', '지역', '코로나19 경상북도 영천시 예방접종센터 ', '', '영천 생활체육관', '38839', '경북 영천시 운동장로 55']\n",
      "['69', '지역', '코로나19 경상북도 고령군 예방접종센터 ', '', '주산체육관', '40136', '경북 고령군 대가야읍 주산순환길 91']\n",
      "['70', '지역', '코로나19 경상북도 칠곡군 예방접종센터 ', '', '교육문화회관 사회교육관', '39872', '경북 칠곡군 왜관읍 관문로 1길 32']\n"
     ]
    },
    {
     "ename": "ValueError",
     "evalue": "invalid literal for int() with base 10: '135-230'",
     "output_type": "error",
     "traceback": [
      "\u001b[1;31m---------------------------------------------------------------------------\u001b[0m",
      "\u001b[1;31mValueError\u001b[0m                                Traceback (most recent call last)",
      "\u001b[1;32m<ipython-input-60-33e28accaaea>\u001b[0m in \u001b[0;36m<module>\u001b[1;34m\u001b[0m\n\u001b[0;32m      4\u001b[0m \u001b[0mheader\u001b[0m \u001b[1;33m=\u001b[0m \u001b[0mnext\u001b[0m\u001b[1;33m(\u001b[0m\u001b[0mdata\u001b[0m\u001b[1;33m)\u001b[0m\u001b[1;33m\u001b[0m\u001b[1;33m\u001b[0m\u001b[0m\n\u001b[0;32m      5\u001b[0m \u001b[1;32mfor\u001b[0m \u001b[0mi\u001b[0m \u001b[1;32min\u001b[0m \u001b[0mdata\u001b[0m \u001b[1;33m:\u001b[0m\u001b[1;33m\u001b[0m\u001b[1;33m\u001b[0m\u001b[0m\n\u001b[1;32m----> 6\u001b[1;33m     \u001b[1;32mif\u001b[0m \u001b[0mint\u001b[0m\u001b[1;33m(\u001b[0m\u001b[0mi\u001b[0m\u001b[1;33m[\u001b[0m\u001b[1;36m5\u001b[0m\u001b[1;33m]\u001b[0m\u001b[1;33m)\u001b[0m \u001b[1;33m>=\u001b[0m \u001b[1;36m10000\u001b[0m \u001b[1;33m:\u001b[0m\u001b[1;33m\u001b[0m\u001b[1;33m\u001b[0m\u001b[0m\n\u001b[0m\u001b[0;32m      7\u001b[0m         \u001b[0mprint\u001b[0m\u001b[1;33m(\u001b[0m\u001b[0mi\u001b[0m\u001b[1;33m)\u001b[0m\u001b[1;33m\u001b[0m\u001b[1;33m\u001b[0m\u001b[0m\n\u001b[0;32m      8\u001b[0m     \u001b[1;32melif\u001b[0m \u001b[1;34m'-'\u001b[0m \u001b[1;32min\u001b[0m \u001b[0mi\u001b[0m\u001b[1;33m[\u001b[0m\u001b[1;36m5\u001b[0m\u001b[1;33m]\u001b[0m \u001b[1;33m:\u001b[0m\u001b[1;33m\u001b[0m\u001b[1;33m\u001b[0m\u001b[0m\n",
      "\u001b[1;31mValueError\u001b[0m: invalid literal for int() with base 10: '135-230'"
     ]
    }
   ],
   "source": [
    "import csv\n",
    "f = open('210416.csv', encoding = 'cp949')\n",
    "data = csv.reader(f)\n",
    "header = next(data)\n",
    "for i in data :\n",
    "    if int(i[5]) >= 10000 :\n",
    "        print(i)\n",
    "    elif '-' in i[5] :\n",
    "        continue\n",
    "f.close()"
   ]
  },
  {
   "cell_type": "code",
   "execution_count": 93,
   "metadata": {},
   "outputs": [
    {
     "name": "stdout",
     "output_type": "stream",
     "text": [
      "['1', '중앙/권역', '코로나19 중앙 예방접종센터', '국립중앙의료원', '국립중앙의료원 D동', '04562', '서울특별시 중구 을지로 39길 29']\n",
      "['2', '중앙/권역', '코로나19 중부권역 예방접종센터', '순천향대 천안병원', '천안시 실내배드민턴장 1층', '31212', '충청남도 천안시 동남구 천안대로 357']\n",
      "['3', '중앙/권역', '코로나19 호남권역 예방접종센터', '조선대병원', '조선대학교병원 의성관 5층', '61452', '광주광역시 동구 필문대로 365']\n",
      "['4', '중앙/권역', '코로나19 영남권역 예방접종센터', '양산 부산대병원', '양산 부산대병원 기숙사동 1층', '50612', '경상남도 양산시 물금읍 금오로 20']\n",
      "['5', '지역', '코로나19 대구광역시 중구 예방접종센터', '', '계명대학교 대구동산병원 별관', '41931', '대구시 중구 달성로 56']\n",
      "['6', '지역', '코로나19 서울특별시 성동구 예방접종센터', '', '성동구청 대강당(3층)', '04750', '서울특별시 성동구 고산자로 270']\n",
      "['7', '지역', '코로나19 부산광역시 부산진구 예방접종센터', '', '부산시민공원 시민사랑채', '47197', '부산 부산진구 시민공원로 73']\n",
      "['8', '지역', '코로나19 인천광역시 연수구 예방접종센터', '', '선학경기장 선학체육관', '21908', '인천광역시 연수구 경원대로 526']\n",
      "['9', '지역', '코로나19 광주광역시 서구 예방접종센터', '', '염주종합체육관', '62048', '광주광역시 서구 금화로 278']\n",
      "['10', '지역', '코로나19 대전광역시 유성구 예방접종센터', '', '유성종합스포츠센터', '34128', '대전광역시 유성구 유성대로 976']\n",
      "['11', '지역', '코로나19 울산광역시 중구 예방접종센터', '', '동천체육관', '44497', '울산시 중구 염포로 85']\n",
      "['12', '지역', '코로나19 세종특별자치시 예방접종센터', '', '남세종종합청소년센터', '30099', '세종특별자치시 달빛1로 227']\n",
      "['13', '지역', '코로나19 경기도 수원시 예방접종센터', '', '아주대 실내체육관', '16499', '경기도 수원시 영통구 월드컵로 206']\n",
      "['14', '지역', '코로나19 경기도 고양시 일산동구 예방접종센터', '', '고양꽃전시관', '10400', '경기도 고양시 일산동구 호수로 595']\n",
      "['15', '지역', '코로나19 강원도 원주시 예방접종센터', '', '치악체육관', '26447', '강원도 원주시 서원대로 279']\n",
      "['16', '지역', '코로나19 충청북도 청주시 예방접종센터', '', '상당구청 스포츠센터', '28806', '충청북도 청주시 상당구 남일면 단재로 466']\n",
      "['17', '지역', '코로나19 충청남도 천안시 서북구 예방접종센터', '', '천안시 실내테니스장', '31157', '충남 천안시 서북구 번영로 208']\n",
      "['18', '지역', '코로나19 전라북도 전주시 예방접종센터', '', '화산체육관', '54984', '전주시 완산구 백제대로 310']\n",
      "['19', '지역', '코로나19 전라남도 목포시 예방접종센터', '', '목포실내체육관', '58608', '전남 목포시 대양로 286']\n",
      "['20', '지역', '코로나19 경상북도 포항시 남구 예방접종센터', '', '포항종합운동장 실내체육관', '37832', '경북 포항시 남구 희망대로 810']\n",
      "['21', '지역', '코로나19 경상남도 창원시 마산구 예방접종센터', '', '마산체육관', '51323', '경남 창원시 마산회원구 삼호로 63']\n",
      "['22', '지역', '코로나19 제주특별자치도 제주시 예방접종센터', '', '한라체육관', '63189', '제주시 서광로2길 24']\n",
      "['23', '지역', '코로나19 서울특별시 중랑구 예방접종센터', '', '중랑문화체육관', '02261', '서울특별시 중랑구 사가정로72길47']\n",
      "['24', '지역', '코로나19 서울특별시 성북구 예방접종센터', '', '성북아트홀(구청4층)', '02848', '서울특별시 성북구 보문로 168']\n",
      "['25', '지역', '코로나19 서울특별시 노원구 예방접종센터', '', '노원구민체육센터', '01741', '서울특별시 노원구 노원로22길 1']\n",
      "['26', '지역', '코로나19 서울특별시 은평구 예방접종센터', '', '은평문화 예술회관', '03381', '서울특별시 은평구 녹번로 16']\n",
      "['27', '지역', '코로나19 서울특별시 동작구 예방접종센터', '', '사당종합체육관', '06989', '서울특별시 동작구 사당로27길 232']\n",
      "['28', '지역', '코로나19 서울특별시 송파구 예방접종센터', '', '송파구 체육문화회관', '05771', '서울특별시 송파구 양산로15']\n",
      "['29', '지역', '코로나19 부산광역시 남구 예방접종센터', '', '남구국민체육센터', '48563', '부산광역시 남구 백운포로 110']\n",
      "['30', '지역', '코로나19 인천광역시 서구 예방접종센터', '', '인천아시아드주경기장', '22717', '인천광역시 서구 봉수대로 806']\n",
      "['31', '지역', '코로나19 광주광역시 남구 예방접종센터', '', '남구다목적체육관', '61711', '광주광역시 남구 화산로 110']\n",
      "['32', '지역', '코로나19 울산광역시 남구 예방접종센터', '', '남구국민체육센터', '44766', '울산광역시 남구 여천로 38']\n",
      "['33', '지역', '코로나19 경기도 성남시 분당구 예방접종센터', '', '탄천종합운동장 체육회관 이벤트홀', '13495', '경기도 성남시 분당구 탄천로 215']\n",
      "['34', '지역', '코로나19 경기도 안양시 동안구 예방접종센터', '', '안양종합운동장 보조경기장', '13918', '경기도 안양시 동안구 평촌대로 389']\n",
      "['35', '지역', '코로나19 경기도 남양주시 예방접종센터', '', '남양주 체육문화센터', '12244', '경기도 남양주시 다산 지금로 91']\n",
      "['36', '지역', '코로나19 강원도 강릉시 예방접종센터', '', '강릉아레나', '25472', '강원도 강릉시 수리골길 102']\n",
      "['37', '지역', '코로나19 강원도 춘천시 예방접종센터', '', '봄내체육관', '24243', '강원도 춘천시 평화로 25']\n",
      "['38', '지역', '코로나19 강원도 삼척시 예방접종센터', '', '삼척체육관', '25909', '강원도 삼척시 동해대로 4234']\n",
      "['39', '지역', '코로나19 충청북도 충주시 예방접종센터', '', '충주체육관', '27371', '충청북도 충주시 예성로 266']\n",
      "['40', '지역', '코로나19 충청북도 음성군 예방접종센터', '', '음성실내체육관', '27704', '충청북도 음성군 설성로 47']\n",
      "['41', '지역', '코로나19 충청남도 아산시 예방접종센터', '', '이순신종합운동장 복합스포츠센터', '31528', '충청남도 아산시 남부로 370-24']\n",
      "['42', '지역', '코로나19 충청남도 논산시 예방접종센터', '', '시민운동장', '32993', '충청남도 논산시 체육로 110']\n",
      "['43', '지역', '코로나19 전라북도 군산시 예방접종센터', '', '월명종합경기장 월명체육관', '54078', '전라북도 군산시 번영로 281']\n",
      "['44', '지역', '코로나19 전라북도 정읍시 예방접종센터', '', '정읍실내체육관', '56158', '전라북도 정읍시 서부로 9']\n",
      "['45', '지역', '코로나19 전라북도 남원시 예방접종센터', '', '춘향골 체육관', '55766', '전라북도 남원시 충정로 341']\n",
      "['46', '지역', '코로나19 전라남도 여수시 예방접종센터', '', '흥국체육관', '59676', '전라남도 여수시 선소로 93']\n",
      "['47', '지역', '코로나19 전라남도 순천시 예방접종센터', '', '순천대학교 국제문화컨벤션관', '57922', '전라남도 순천시 중앙로 235']\n",
      "['48', '지역', '코로나19 경상남도 진주시 예방접종센터', '', '진주종합실내체육관(초전동)', '52733', '경상남도 진주시 남강로 1655']\n",
      "['49', '지역', '코로나19 경상남도 통영시 예방접종센터', '', '충무체육관', '53047', '경상남도 통영시 북문2길 34']\n",
      "['50', '지역', '코로나19 서울특별시 중구 예방접종센터 ', '', '충무스포츠센터', '04569', '서울특별시 중구퇴계로 387']\n",
      "['51', '지역', '코로나19 부산광역시 금정구  예방접종센터 ', '', '금정문화회관 생활문화관', '46251', '부산광역시 금정구 체육공원로 7']\n",
      "['52', '지역', '코로나19 부산광역시 북구  예방접종센터 ', '', '북구문화예술회관', '46547', '부산광역시 북구 금곡대로 46번길 50']\n",
      "['53', '지역', '코로나19 인천광역시 부평구 예방접종센터 ', '', '삼산월드체육관', '21343', '인천광역시 부평구 체육관로 60']\n",
      "['54', '지역', '코로나19 대구광역시 동구 예방접종센터 ', '', '아양아트센터', '41179', '대구광역시 동구 효동로2길 24']\n",
      "['55', '지역', '코로나19 대구광역시 달서구 예방접종센터 ', '', '성서산업단지 다목적체육관', '42718', '대구광역시 달서구 성서공단로22길 25']\n",
      "['56', '지역', '코로나19 울산광역시 북구 예방접종센터 ', '', '오토밸리복지센터', '44248', '울산광역시 북구 산업로 1020']\n",
      "['57', '지역', '코로나19 경기도 안산시 단원구 예방접종센터 ', '', '올림픽기념관 체육관', '15335', '경기 안산시 단원구 적금로202']\n",
      "['58', '지역', '코로나19 경기도 용인시 처인구 예방접종센터 ', '', '용인미르스타디움', '16997', '경기 용인시 처인구 동백죽전대로 61']\n",
      "['59', '지역', '코로나19 경기도 화성시 예방접종센터 ', '', '동탄나래울 종합사회복지관', '18427', '경기 화성시 여울로2길 33']\n",
      "['60', '지역', '코로나19 경기도 시흥시 예방접종센터 ', '', '정왕평생학습관', '15055', '경기 시흥시 정왕대로 233번길 21']\n",
      "['61', '지역', '코로나19 충청남도 서산시 예방접종센터 ', '', '서산시민체육관', '31963', '충남 서산시 안견로 661']\n",
      "['62', '지역', '코로나19 전라남도 광양시 예방접종센터 ', '', '광양실내체육관', '57728', '전남 광양시 봉강면 매천로 695-20']\n",
      "['63', '지역', '코로나19 전라남도 구례군 예방접종센터 ', '', '구례실내체육관', '57635', '전남 구례군 구례읍 서시천로 76-11']\n",
      "['64', '지역', '코로나19 전라남도 해남군 예방접종센터 ', '', '건강누리센터', '59038', '전남 해남군 해남로 46']\n",
      "['65', '지역', '코로나19 전라남도 영광군 예방접종센터 ', '', '영광스포티움 실내보조체육관', '57035', '전남 영광군 영광읍 월현로 170']\n",
      "['66', '지역', '코로나19 경상북도 포항시 북구 예방접종센터 ', '', '양덕한마음체육관', '37598', '경북 포항시 북구 새천년대로1460']\n",
      "['67', '지역', '코로나19 경상북도 안동시 예방접종센터 ', '', '안동체육관 실내보조경기장', '36709', '경북 안동시 육사로 205']\n",
      "['68', '지역', '코로나19 경상북도 영천시 예방접종센터 ', '', '영천 생활체육관', '38839', '경북 영천시 운동장로 55']\n",
      "['69', '지역', '코로나19 경상북도 고령군 예방접종센터 ', '', '주산체육관', '40136', '경북 고령군 대가야읍 주산순환길 91']\n",
      "['70', '지역', '코로나19 경상북도 칠곡군 예방접종센터 ', '', '교육문화회관 사회교육관', '39872', '경북 칠곡군 왜관읍 관문로 1길 32']\n",
      "['71', '지역', '코로나19 서울특별시 구로구 예방접종센터', '', '구로구민회관', '08301', '서울특별시 구로구 가마산로25길 21']\n",
      "['72', '지역', '코로나19 서울특별시 용산구 예방접종센터', '', '용산구 종합행정타운 전시실', '04390', '서울특별시 용산구 녹사평대로 150']\n",
      "['73', '지역', '코로나19 서울특별시 광진구 예방접종센터', '', '자양체육관', '05110', '서울특별시 광진구 뚝섬로52길 66']\n",
      "['74', '지역', '코로나19 서울특별시 강북구 예방접종센터', '', '강북구 문화예술회관', '01036', '서울특별시 강북구 삼각산로 85']\n",
      "['75', '지역', '코로나19 서울특별시 도봉구 예방접종센터', '', '창동문화체육센터', '01412', '서울특별시 도봉구 노해로69길 132']\n",
      "['76', '지역', '코로나19 서울특별시 양천구 예방접종센터', '', '해누리타운', '08094', '서울특별시 양천구 목동동로 81']\n",
      "['77', '지역', '코로나19 서울특별시 강서구 예방접종센터', '', '(舊) 염강초등학교', '07531', '서울특별시 강서구 허준로 221-22(가양동)']\n",
      "['78', '지역', '코로나19 서울특별시 금천구 예방접종센터', '', '금나래문화체육센터', '08608', '서울특별시 금천구 독산동 1148']\n",
      "['79', '지역', '코로나19 서울특별시 영등포구 예방접종센터', '', '영등포 아트홀', '07258', '서울특별시 영등포구 국회대로 596']\n",
      "['80', '지역', '코로나19 서울특별시 관악구 예방접종센터', '', '관악구민종합체육센터', '08799', '서울특별시 관악구 낙성대로3길 37']\n",
      "['81', '지역', '코로나19 서울특별시 강동구 예방접종센터', '', '강동구민회관', '05314', '서울특별시 강동구 상암로 168']\n",
      "['82', '지역', '코로나19 서울특별시 서초구 예방접종센터', '', '서초문화예술회관', '06749', '서울특별시 서초구 강남대로 201']\n",
      "['83', '지역', '코로나19 서울특별시 종로구 예방접종센터', '', '종로구민회관', '03104', '서울특별시 종로구 지봉로5길 7-5']\n",
      "['84', '지역', '코로나19 서울특별시 동대문구 예방접종센터', '', '동대문구체육관', '02609', '서울특별시 동대문구 답십리로 210-3']\n",
      "['85', '지역', '코로나19 서울특별시 서대문구 예방접종센터', '', '북아현문화체육센터', '03770', '서울특별시 서대문구 북아현로 51']\n",
      "['86', '지역', '코로나19 서울특별시 마포구 예방접종센터', '', '마포구민체육센터', '03954', '서울특별시 마포구 월드컵로25길 190']\n",
      "['87', '지역', '코로나19 서울특별시 강남구 예방접종센터', '', '일원에코센터', '135-230', '서울특별시 강남구 일원동 4-12']\n",
      "['88', '지역', '코로나19 대구광역시 북구 예방접종센터', '', '대구복합스포츠타운 시민체육관', '41594', '대구광역시 북구 고성로 191 (고성동3가)']\n",
      "['89', '지역', '코로나19 대구광역시 서구 예방접종센터', '', '서구국민체육센터', '41759', '대구광역시 서구 문화로 72 (이현동)']\n",
      "['90', '지역', '코로나19 인천광역시 동구 예방접종센터', '', '송림체육관', '22534', '인천광역시 동구 염전로 30']\n",
      "['91', '지역', '코로나19 인천광역시 강화군 예방접종센터', '', '강화문예회관', '23028', '인천광역시 강화군 강화읍 고비고개로19번길 12']\n",
      "['92', '지역', '코로나19 광주광역시 동구 예방접종센터', '', '동구문화센터', '61498', '광주광역시 동구 남문로 646, 4층']\n",
      "['93', '지역', '코로나19 광주광역시 북구 예방접종센터', '', '전남대학교 스포츠센터', '61186', '광주광역시 북구 우치로 91, 전남대학교']\n",
      "['94', '지역', '코로나19 광주광역시 광산구 예방접종센터', '', '광주보훈병원 재활체육관', '62284', '광주광역시 광산구 첨단월봉로 99, 광주보훈병원']\n",
      "['95', '지역', '코로나19 대전광역시 동구 예방접종센터', '', '동구 국민체육센터', '34593', '대전광역시 동구 가양로 9']\n",
      "['96', '지역', '코로나19 대전광역시 중구 예방접종센터', '', '한밭체육관', '35021', '대전광역시 중구 대종로 373(부사동)']\n",
      "['97', '지역', '코로나19 대전광역시 서구 예방접종센터', '', '도솔다목적체육관', '35344', '대전광역시 서구 배재로197번길 41(도마동)']\n",
      "['98', '지역', '코로나19 대전광역시 대덕구 예방접종센터', '', '청소년어울림센터', '34411', '대전광역시 대덕구 쌍청당로 25']\n",
      "['99', '지역', '코로나19 울산광역시 동구 예방접종센터', '', '전하체육센터', '44020', '울산광역시 동구 봉수로 285']\n",
      "['100', '지역', '코로나19 울산광역시 울주군 예방접종센터', '', '울주군 국민체육센터', '44920', '울산광역시 울주군 범서읍 구영로 101-16']\n",
      "['101', '지역', '코로나19 경기도 광명시 예방접종센터', '', '광명시민체육관', '14259', '경기도 광명시 오리로 703(하안동)']\n",
      "['102', '지역', '코로나19 경기도 의정부시 예방접종센터', '', '의정부역 앞 시민공원', '480-010', '경기도 의정부시 의정부동 161-10']\n",
      "['103', '지역', '코로나19 경기도 평택시 송탄 예방접종센터', '', '이충문화체육센터', '17731', '경기도 평택시 장안웃길 149']\n",
      "['104', '지역', '코로나19 경기도 이천시 예방접종센터', '', '이천시종합운동장 배드민턴장', '17321', '경기도 이천시 부발읍 중부대로 1696']\n",
      "['105', '지역', '코로나19 경기도 여주시 예방접종센터', '', '여주시 실내체육관', '12625', '경기도 여주시 영릉로 123']\n",
      "['106', '지역', '코로나19 경기도 파주시 예방접종센터', '', '시민회관 대공연장', '10932', '경기도 파주시 시민회관길 33']\n",
      "['107', '지역', '코로나19 경기도 부천시 예방접종센터', '', '부천체육관', '14509', '경기도 부천시 석천로 293']\n",
      "['108', '지역', '코로나19 경기도 양평군 예방접종센터', '', '물맑은실내체육관', '12546', '경기도 양평군 양평읍 마유산로 11']\n",
      "['109', '지역', '코로나19 경기도 하남시 예방접종센터', '', '하남종합운동장 제2체육관', '12912', '경기도 하남시 아리수로 600']\n",
      "['110', '지역', '코로나19 경기도 의왕시 예방접종센터', '', '의왕시청소년수련관 다목적체육관', '16077', '경기도 의왕시 문화공원로 33']\n",
      "['111', '지역', '코로나19 경기도 김포시 예방접종센터', '', '김포시민회관 실내체육관', '10110', '경기도 김포시 사우중로26']\n",
      "['112', '지역', '코로나19 경기도 광주시 예방접종센터', '', '시민체육관', '12794', '경기도 광주시 오포읍 청석로 85']\n",
      "['113', '지역', '코로나19 경기도 안양시 만안구 예방접종센터', '', '안양아트센터', '14093', '경기도 안양시 만안구 문예로36번길 16']\n",
      "['114', '지역', '코로나19 경기도 군포시 예방접종센터', '', '시민체육광장', '15862', '경기도 군포시 산본로 267']\n",
      "['115', '지역', '코로나19 경기도 포천시 예방접종센터', '', '포천종합운동장', '11154', '경기도 포천시 군내면 호국로 1518']\n",
      "['116', '지역', '코로나19 경기도 구리시 예방접종센터', '', '인창도서관대강당', '11922', '경기도 구리시 건원대로34번길 90']\n",
      "['117', '지역', '코로나19 경기도 고양시 덕양구 예방접종센터', '', '고양어울림누리 체육관', '10471', '경기도 고양시 덕양구 어울림로 33']\n",
      "['118', '지역', '코로나19 강원도 동해시 예방접종센터', '', '동해체육관', '25750', '강원도 동해시 덕골길 10']\n",
      "['119', '지역', '코로나19 강원도 태백시 예방접종센터', '', '문화예술회관', '26009', '강원도 태백시 고원로 203']\n",
      "['120', '지역', '코로나19 강원도 속초시 예방접종센터', '', '속초시생활체육관', '24855', '강원도 속초시 동해대로 4229']\n",
      "['121', '지역', '코로나19 강원도 영월군 예방접종센터', '', '스포츠파크 실내체육관', '26237', '강원도 영월군 영월읍 제방안길 100']\n",
      "['122', '지역', '코로나19 강원도 평창군 예방접종센터', '', '평창읍 생활체육관', '25377', '강원 평창군 평창읍 산책길 38']\n",
      "['123', '지역', '코로나19 강원도 정선군 예방접종센터', '', '정선종합경기장 실내체육관', '26125', '강원도 정선군 정선읍 애산로 60']\n",
      "['124', '지역', '코로나19 강원도 인제군 예방접종센터', '', '인제체육관', '24624', '강원도 인제군 인제읍 비봉로44번길 113']\n",
      "['125', '지역', '코로나19 충청북도 고성군 예방접종센터', '', '고성생활체육관', '24728', '강원도 고성군 간성읍 수성로 87']\n",
      "['126', '지역', '코로나19 충청북도 청주시 서원구 예방접종센터', '', '청주체육관', '28559', '충청북도 청주시 서원구 사직대로 229']\n",
      "['127', '지역', '코로나19 충청북도 제천시 예방접종센터', '', '제천체육관', '27182', '충청북도 제천시 숭의로 85(화산동)']\n",
      "['128', '지역', '코로나19 충청북도 옥천군 예방접종센터', '', '옥천체육센터', '29039', '충청북도 옥천군 옥천읍 관성로 53']\n",
      "['129', '지역', '코로나19 충청남도 공주시 예방접종센터', '', '백제체육관', '32535', '충청남도 공주시 고마나루길 51-14']\n",
      "['130', '지역', '코로나19 충청남도 보령시 예방접종센터', '', '보령종합체육관', '33494', '충청남도 보령시 보령남로 339']\n",
      "['131', '지역', '코로나19 충청남도 부여군 예방접종센터', '', '부여국민체육센터', '33117', '충청남도 부여군 규암면 호수로 82']\n",
      "['132', '지역', '코로나19 충청남도 서천군 예방접종센터', '', '서천국민체육센터', '33651', '충청남도 서천군 마서면 마서로 400']\n",
      "['133', '지역', '코로나19 충청남도 예산군 예방접종센터', '', '윤봉길체육관', '32438', '충청남도 예산군 예산읍 예산로 352']\n",
      "['134', '지역', '코로나19 충청남도 태안군 예방접종센터', '', '태안군민체육관', '32140', '충청남도 태안군 태안읍 백화로 200']\n",
      "['135', '지역', '코로나19 전라북도 익산시 예방접종센터', '', '익산실내체육관', '54582', '전라북도 익산시 무왕로 1397']\n",
      "['136', '지역', '코로나19 충청남도 당진시 예방접종센터', '', '송악문화스포츠센터', '31732', '충청남도 당진시 송악읍 틀무시로 830']\n",
      "['137', '지역', '코로나19 전라북도 진안군 예방접종센터', '', '전통문화전수관', '55432', '전라북도 진안군 진안읍 우화2길 35번지']\n",
      "['138', '지역', '코로나19 전라북도 고창군 예방접종센터', '', '청소년수련관체육관', '56450', '전라북도 고창군 고창읍 운동장길 36']\n",
      "['139', '지역', '코로나19 전라남도 나주시 예방접종센터', '', '나주종합스포츠파크(다목적체육관)', '58253', '전라남도 나주시 영산강변로 99(송월동)']\n",
      "['140', '지역', '코로나19 전라남도 담양군 예방접종센터', '', '담양문화회관', '57344', '전라남도 담양군 담양읍 지침6길 29']\n",
      "['141', '지역', '코로나19 전라남도 곡성군 예방접종센터', '', '곡성문화체육관', '57535', '전라남도 곡성군 곡성읍 곡성로 855']\n",
      "['142', '지역', '코로나19 전라남도 고흥군 예방접종센터', '', '팔영체육관', '59536', '전라남도 고흥군 고흥읍 고흥로 1892-67']\n",
      "['143', '지역', '코로나19 전라남도 보성군 예방접종센터', '', '다향체육관', '59451', '전라남도 보성군 보성읍 용문길 18']\n",
      "['144', '지역', '코로나19 전라남도 장흥군 예방접종센터', '', '장흥군 실내체육관', '59333', '전라남도 장흥군 장흥읍 읍성로 5-28']\n",
      "['145', '지역', '코로나19 전라남도 화순군 예방접종센터', '', '이용대체육관', '58149', '전라남도 화순군 화순읍 학포로 2698']\n",
      "['146', '지역', '코로나19 전라남도 강진군 예방접종센터', '', '제2실내체육관', '59223', '전라남도 강진군 강진읍 종합운동장길 60']\n",
      "['147', '지역', '코로나19 전라남도 영암군 예방접종센터', '', '영암실내체육관', '58418', '전라남도 영암군 영암읍 영암로 1527']\n",
      "['148', '지역', '코로나19 전라남도 무안군 예방접종센터', '', '무안종합스포츠파크 실내체육관', '58517', '전라남도 무안군 현경면 공항로 345']\n",
      "['149', '지역', '코로나19 전라남도 함평군 예방접종센터', '', '문화체육센터', '57145', '전라남도 함평군 대동면 함장로 1377']\n",
      "['150', '지역', '코로나19 전라남도 장성군 예방접종센터', '', '군민회관', '57220', '전라남도 장성군 장성읍 청운7길 10']\n",
      "['151', '지역', '코로나19 전라남도 완도군 예방접종센터', '', '농어민문화체육센터', '59109', '전라남도 완도군 완도읍 개포로 111']\n",
      "['152', '지역', '코로나19 전라남도 진도군 예방접종센터', '', '진도군 실내체육관', '58927', '전라남도 진도군 진도읍 공설운동장길 57']\n",
      "['153', '지역', '코로나19 전라남도 신안군 예방접종센터', '', '신안군민체육관', '58821', '전라남도 신안군 압해읍 복룡로 120']\n",
      "['154', '지역', '코로나19 경상북도 경주시 예방접종센터', '', '경주실내체육관', '38089', '경상북도 경주시 황성공원로 29']\n",
      "['155', '지역', '코로나19 경상북도 문경시 예방접종센터', '', '온누리스포츠센터', '36975', '경상북도 문경시 점고길21']\n",
      "['156', '지역', '코로나19 경상북도 경산시 예방접종센터', '', '경산실내체육관', '38637', '경상북도 경산시 남매로 100']\n",
      "['157', '지역', '코로나19 경상북도 의성군 예방접종센터', '', '의성실내체육관', '37331', '경상북도 의성군 의성읍 충효로 88']\n",
      "['158', '지역', '코로나19 경상북도 청송군 예방접종센터', '', '청송군보건의료원', '37433', '경상북도 청송군 청송읍 의료원길 19']\n",
      "['159', '지역', '코로나19 경상북도 봉화군 예방접종센터', '', '봉화군민회관', '36238', '경상북도 봉화군 봉화읍 내성로 4길 6-44 ']\n",
      "['160', '지역', '코로나19 경상남도 창원시 예방접종센터', '', '창원축구센터 체육관', '51460', '경상남도 창원시 성산구 비음로 97']\n",
      "['161', '지역', '코로나19 경상남도 사천시 예방접종센터', '', '민방위교육장', '52539', '경상남도 사천시 용현면 시청로77']\n",
      "['162', '지역', '코로나19 경상남도 김해시 예방접종센터', '', '문화체육관', '50918', '경상남도 김해시 가야의길 98-19']\n",
      "['163', '지역', '코로나19 경상남도 밀양시 예방접종센터', '', '밀양문화체육회관', '50436', '경상남도 밀양시 삼문송림길 25']\n",
      "['164', '지역', '코로나19 경상남도 거제시 예방접종센터', '', '거제시체육관', '53257', '경상남도 거제시 계룡로11길 35']\n",
      "['165', '지역', '코로나19 경상남도 양산시 예방접종센터', '', '양산시 종합운동장 실내체육관', '50619', '경상남도 양산시 양산대로 849']\n",
      "['166', '지역', '코로나19 경상남도 의령군 예방접종센터', '', '국민체육센터', '52151', '경상남도 의령군 의령읍 의병로8길 44']\n",
      "['167', '지역', '코로나19 경상남도 함안군 예방접종센터', '', '함안체육관', '52036', '경상남도 함안군 가야읍 함안대로 619-4']\n",
      "['168', '지역', '코로나19 경상남도 창녕군 예방접종센터', '', '창녕문화예술회관', '50317', '경상남도 창녕군 창녕읍 우포2로 1189-25']\n",
      "['169', '지역', '코로나19 경상남도 고성군 예방접종센터', '', '고성군 실내체육관', '52931', '경상남도 고성군 고성읍 송학고분로 179']\n",
      "['170', '지역', '코로나19 경상남도 남해군 예방접종센터', '', '남해문화센터', '52413', '경상남도 남해군 남해읍 선소로12']\n",
      "['171', '지역', '코로나19 경상남도 하동군 예방접종센터', '', '하동군보건소', '52333', '경상남도 하동군 군청로31']\n",
      "['172', '지역', '코로나19 경상남도 산청군 예방접종센터', '', '산청군 실내체육관', '52215', '경남 산청군 금서면 친환경로2631번길 39']\n",
      "['173', '지역', '코로나19 경상남도 함양군 예방접종센터', '', '한들생태주차창', '676-805', '경상남도 함양군 함양읍 용평리 637-1']\n",
      "['174', '지역', '코로나19 경상남도 거창군 예방접종센터', '', '거창군 스포츠파크 실내체육관', '50126', '경상남도 거창군 거창읍 양평리 1160']\n",
      "['175', '지역', '코로나19 경상남도 합천군 예방접종센터', '', '합천체육관', '50229', '경상남도 합천군 합천읍 장수로 1']\n"
     ]
    }
   ],
   "source": [
    "import csv\n",
    "f = open('210416.csv', encoding = 'cp949')\n",
    "data = csv.reader(f)\n",
    "header = next(data)\n",
    "for i in data :\n",
    "    print(i)\n"
   ]
  },
  {
   "cell_type": "code",
   "execution_count": 135,
   "metadata": {
    "scrolled": true
   },
   "outputs": [
    {
     "name": "stdout",
     "output_type": "stream",
     "text": [
      "115\n",
      "13\n",
      "21\n",
      "26\n"
     ]
    },
    {
     "data": {
      "image/png": "[encoded data removed]",
      "text/plain": [
       "<Figure size 720x504 with 1 Axes>"
      ]
     },
     "metadata": {
      "needs_background": "light"
     },
     "output_type": "display_data"
    }
   ],
   "source": [
    "print([sum(line.count(\"체육\") for line in open('210416.csv'))][0])\n",
    "print([sum(line.count(\"운동\") for line in open('210416.csv'))][0])\n",
    "print([sum(line.count(\"회관\") for line in open('210416.csv'))][0])\n",
    "\n",
    "print(175-115-13-21)\n",
    "\n",
    "import matplotlib.pyplot as plt\n",
    "import numpy as np\n",
    "\n",
    "x = np.arange(4)\n",
    "place = ['체육관', '운동장', '회관', '기타']\n",
    "values = [115, 13, 21, 26 ]\n",
    "\n",
    "plt.bar(x, values)\n",
    "plt.xticks(x, place)\n",
    "plt.show()"
   ]
  },
  {
   "cell_type": "code",
   "execution_count": 131,
   "metadata": {},
   "outputs": [
    {
     "data": {
      "image/png": "[encoded data removed]",
      "text/plain": [
       "<Figure size 720x504 with 1 Axes>"
      ]
     },
     "metadata": {
      "needs_background": "light"
     },
     "output_type": "display_data"
    }
   ],
   "source": [
    "x = np.arange(4)\n",
    "years = ['체육관', '운동장', '회관', '기타']\n",
    "values = [115, 13, 21, 26]\n",
    "\n",
    "plt.bar(x, years)\n",
    "plt.xticks(x, values)\n",
    "plt.show()"
   ]
  },
  {
   "cell_type": "code",
   "execution_count": 59,
   "metadata": {},
   "outputs": [
    {
     "ename": "SyntaxError",
     "evalue": "invalid syntax (<ipython-input-59-b021dd0ee420>, line 7)",
     "output_type": "error",
     "traceback": [
      "\u001b[1;36m  File \u001b[1;32m\"<ipython-input-59-b021dd0ee420>\"\u001b[1;36m, line \u001b[1;32m7\u001b[0m\n\u001b[1;33m    elif '-' in i[5] :\u001b[0m\n\u001b[1;37m    ^\u001b[0m\n\u001b[1;31mSyntaxError\u001b[0m\u001b[1;31m:\u001b[0m invalid syntax\n"
     ]
    }
   ],
   "source": [
    "import csv\n",
    "f = open('210416.csv', encoding = 'cp949')\n",
    "data = csv.reader(f)\n",
    "header = next(data)\n",
    "count = 0\n",
    "for i in data :\n",
    "    elif '-' in i[5] :\n",
    "        continue\n",
    "    if int(i[5]) >= 10000 :\n",
    "        print(i)\n"
   ]
  },
  {
   "cell_type": "code",
   "execution_count": 51,
   "metadata": {},
   "outputs": [
    {
     "ename": "NameError",
     "evalue": "name 'c' is not defined",
     "output_type": "error",
     "traceback": [
      "\u001b[1;31m---------------------------------------------------------------------------\u001b[0m",
      "\u001b[1;31mNameError\u001b[0m                                 Traceback (most recent call last)",
      "\u001b[1;32m<ipython-input-51-d92cef082c54>\u001b[0m in \u001b[0;36m<module>\u001b[1;34m\u001b[0m\n\u001b[0;32m      5\u001b[0m \u001b[0mmax\u001b[0m \u001b[1;33m=\u001b[0m \u001b[1;36m6\u001b[0m\u001b[1;33m\u001b[0m\u001b[1;33m\u001b[0m\u001b[0m\n\u001b[0;32m      6\u001b[0m \u001b[1;33m\u001b[0m\u001b[0m\n\u001b[1;32m----> 7\u001b[1;33m \u001b[1;32mfor\u001b[0m \u001b[0mi\u001b[0m \u001b[1;32min\u001b[0m \u001b[0mc\u001b[0m \u001b[1;33m:\u001b[0m\u001b[1;33m\u001b[0m\u001b[1;33m\u001b[0m\u001b[0m\n\u001b[0m\u001b[0;32m      8\u001b[0m     \u001b[1;32mif\u001b[0m \u001b[0mi\u001b[0m \u001b[1;32min\u001b[0m \u001b[0mlst_a\u001b[0m \u001b[1;33m:\u001b[0m\u001b[1;33m\u001b[0m\u001b[1;33m\u001b[0m\u001b[0m\n\u001b[0;32m      9\u001b[0m         \u001b[1;32mcontinue\u001b[0m\u001b[1;33m\u001b[0m\u001b[1;33m\u001b[0m\u001b[0m\n",
      "\u001b[1;31mNameError\u001b[0m: name 'c' is not defined"
     ]
    }
   ],
   "source": [
    "place = {}\n",
    "\n",
    "lst_a = []\n",
    "cnt_a = []\n",
    "max = 6\n",
    "\n",
    "for i in c :\n",
    "    if i in lst_a :\n",
    "        continue\n",
    "    if (c.count(i) > max) :\n",
    "        cnt_a.append(c.count(i))\n",
    "        lst_a.append(i)\n",
    "        \n",
    "    if (max < c.count(i)) :\n",
    "        max = c.count(i)\n",
    "        \n",
    "print(cnt_a)\n",
    "print(lst_a)"
   ]
  },
  {
   "cell_type": "code",
   "execution_count": 55,
   "metadata": {},
   "outputs": [
    {
     "ename": "SyntaxError",
     "evalue": "invalid syntax (<ipython-input-55-ec31972a9985>, line 1)",
     "output_type": "error",
     "traceback": [
      "\u001b[1;36m  File \u001b[1;32m\"<ipython-input-55-ec31972a9985>\"\u001b[1;36m, line \u001b[1;32m1\u001b[0m\n\u001b[1;33m    place = { '체육관':,'운동장':,'회관':,'보건소':,'기타': }\u001b[0m\n\u001b[1;37m                    ^\u001b[0m\n\u001b[1;31mSyntaxError\u001b[0m\u001b[1;31m:\u001b[0m invalid syntax\n"
     ]
    }
   ],
   "source": [
    "place = { '체육관':,'운동장':,'회관':,'보건소':,'기타': }\n",
    " \n",
    "values = place.values()\n",
    "\n",
    "a=.split(' ')"
   ]
  },
  {
   "cell_type": "code",
   "execution_count": 56,
   "metadata": {},
   "outputs": [
    {
     "ename": "NameError",
     "evalue": "name 'pd' is not defined",
     "output_type": "error",
     "traceback": [
      "\u001b[1;31m---------------------------------------------------------------------------\u001b[0m",
      "\u001b[1;31mNameError\u001b[0m                                 Traceback (most recent call last)",
      "\u001b[1;32m<ipython-input-56-fe7b232766f2>\u001b[0m in \u001b[0;36m<module>\u001b[1;34m\u001b[0m\n\u001b[0;32m      7\u001b[0m     \u001b[1;34m'장소'\u001b[0m \u001b[1;33m:\u001b[0m \u001b[1;33m[\u001b[0m\u001b[1;34m'체육관'\u001b[0m\u001b[1;33m,\u001b[0m\u001b[1;34m'운동장'\u001b[0m\u001b[1;33m]\u001b[0m\u001b[1;33m\u001b[0m\u001b[1;33m\u001b[0m\u001b[0m\n\u001b[0;32m      8\u001b[0m }\n\u001b[1;32m----> 9\u001b[1;33m \u001b[0mdf\u001b[0m \u001b[1;33m=\u001b[0m \u001b[0mpd\u001b[0m\u001b[1;33m.\u001b[0m\u001b[0mDataFrame\u001b[0m\u001b[1;33m(\u001b[0m\u001b[0mdata\u001b[0m\u001b[1;33m)\u001b[0m\u001b[1;33m\u001b[0m\u001b[1;33m\u001b[0m\u001b[0m\n\u001b[0m",
      "\u001b[1;31mNameError\u001b[0m: name 'pd' is not defined"
     ]
    }
   ],
   "source": [
    "import csv\n",
    "f = open('210416.csv', encoding = 'cp949')\n",
    "data = csv.reader(f)\n",
    "header = next(data)\n",
    "\n",
    "data={\n",
    "    '장소' : ['체육관','운동장']\n",
    "}\n",
    "df = pd.DataFrame(data)"
   ]
  }
 ],
 "metadata": {
  "kernelspec": {
   "display_name": "Python 3",
   "language": "python",
   "name": "python3"
  },
  "language_info": {
   "codemirror_mode": {
    "name": "ipython",
    "version": 3
   },
   "file_extension": ".py",
   "mimetype": "text/x-python",
   "name": "python",
   "nbconvert_exporter": "python",
   "pygments_lexer": "ipython3",
   "version": "3.8.5"
  }
 },
 "nbformat": 4,
 "nbformat_minor": 4
}
